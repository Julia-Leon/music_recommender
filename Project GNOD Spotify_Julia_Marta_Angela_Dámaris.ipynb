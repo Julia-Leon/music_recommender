{
 "cells": [
  {
   "cell_type": "markdown",
   "metadata": {},
   "source": [
    "## GNOD music recommender\n",
    "\n",
    "\n",
    "#### Business goal and short summarise:\n",
    "\n",
    "We are presenting to GNOD a project for a new music recommendator, not only for bands, as they already have in Gnoosic, but also for songs for their users. The idea is to give users 2 new possibilities when searching for recommendations: songs that are similar to the ones they picked from an acoustic point of view, and songs that are popular around the world right now independently from their tastes. \n",
    "\n",
    "We are going to use API from Spotify to collect as much data as possible. Once the data is collected, we want to create clusters of songs that are similar to each other. Finally, we are building a tool that will take a song as an input from the user, this song will match with one of the clusters we created, and the tool will prioritize giving the user an output recommendation of a song from that same cluster. \n",
    "\n",
    "In order to start, we want to explore and we are going to directly scrape the web and get a few hundreds from an online site and see if we can apply process with a small sample. \n",
    "\n",
    "So here we go scraping a first shot of hot songs from Billboard. \n",
    "\n",
    "\n",
    "\n",
    "<h1 id=\"Our project step by step\">Our project step by step</h1>\n",
    "<div id=\"toc\"></div>\n"
   ]
  },
  {
   "cell_type": "markdown",
   "metadata": {},
   "source": [
    "### Stage 1: Shaping the process and designing a first prototype"
   ]
  },
  {
   "cell_type": "markdown",
   "metadata": {},
   "source": [
    "#### Importing needed libraries and reading the url"
   ]
  },
  {
   "cell_type": "code",
   "execution_count": 1,
   "metadata": {},
   "outputs": [],
   "source": [
    "# 1. importing libraries- BeautifulSoup, requests, pandas\n",
    "\n",
    "from bs4 import BeautifulSoup\n",
    "import requests \n",
    "import pandas as pd \n",
    "\n",
    "\n",
    "# 2. find url and store it in avariable\n",
    "url = \"https://www.billboard.com/charts/hot-100\"\n",
    "\n",
    "# 3. download html with a get request\n",
    "response = requests.get(url)"
   ]
  },
  {
   "cell_type": "code",
   "execution_count": 2,
   "metadata": {},
   "outputs": [
    {
     "data": {
      "text/plain": [
       "200"
      ]
     },
     "execution_count": 2,
     "metadata": {},
     "output_type": "execute_result"
    }
   ],
   "source": [
    "#check response status code \n",
    "response.status_code"
   ]
  },
  {
   "cell_type": "markdown",
   "metadata": {},
   "source": [
    "#### Getting the soup"
   ]
  },
  {
   "cell_type": "code",
   "execution_count": 3,
   "metadata": {},
   "outputs": [],
   "source": [
    "#parse and store the contents of the url call\n",
    "soup=BeautifulSoup(response.content, 'html.parser')"
   ]
  },
  {
   "cell_type": "raw",
   "metadata": {},
   "source": [
    "#prettify the soup \n",
    "soup.prettify"
   ]
  },
  {
   "cell_type": "markdown",
   "metadata": {},
   "source": [
    "#### Finding a method working for one song"
   ]
  },
  {
   "cell_type": "code",
   "execution_count": 5,
   "metadata": {},
   "outputs": [
    {
     "data": {
      "text/plain": [
       "'Montero (Call Me By Your Name)'"
      ]
     },
     "execution_count": 5,
     "metadata": {},
     "output_type": "execute_result"
    }
   ],
   "source": [
    "soup.select(\"span.chart-element__information__song\")[4].text"
   ]
  },
  {
   "cell_type": "code",
   "execution_count": 6,
   "metadata": {},
   "outputs": [
    {
     "data": {
      "text/plain": [
       "'Lil Nas X'"
      ]
     },
     "execution_count": 6,
     "metadata": {},
     "output_type": "execute_result"
    }
   ],
   "source": [
    "soup.select(\"span.chart-element__information__artist\")[4].text"
   ]
  },
  {
   "cell_type": "markdown",
   "metadata": {},
   "source": [
    "#### Applying for all the songs in Hot 100 "
   ]
  },
  {
   "cell_type": "code",
   "execution_count": 7,
   "metadata": {},
   "outputs": [],
   "source": [
    "# 'for loop' for extracting the songs\n",
    "title_list=soup.select(\"span.chart-element__information__song\")"
   ]
  },
  {
   "cell_type": "code",
   "execution_count": 8,
   "metadata": {},
   "outputs": [
    {
     "name": "stdout",
     "output_type": "stream",
     "text": [
      "Butter\n",
      "Good 4 U\n",
      "Levitating\n",
      "Kiss Me More\n",
      "Montero (Call Me By Your Name)\n",
      "Bad Habits\n",
      "Leave The Door Open\n",
      "Peaches\n",
      "Save Your Tears\n",
      "Deja Vu\n",
      "Astronaut In The Ocean\n",
      "Rapstar\n",
      "You Right\n",
      "Am I The Only One\n",
      "Blinding Lights\n",
      "Without You\n",
      "Thot Shit\n",
      "Forever After All\n",
      "Heartbreak Anniversary\n",
      "Fancy Like\n",
      "Every Chance I Get\n",
      "Famous Friends\n",
      "Beautiful Mistakes\n",
      "Best Friend\n",
      "Lil Bit\n",
      "Single Saturday Night\n",
      "Heat Waves\n",
      "Leave Before You Love Me\n",
      "Wants And Needs\n",
      "Yonaguni\n",
      "Blame It On You\n",
      "Late At Night\n",
      "Drivers License\n",
      "Telepatia\n",
      "Glad You Exist\n",
      "Mood\n",
      "Wockesha\n",
      "Traitor\n",
      "Todo de Ti\n",
      "Drinkin' Beer. Talkin' God. Amen.\n",
      "Ain't Shit\n",
      "pov\n",
      "My Ex's Best Friend\n",
      "WUSYANAME\n",
      "Calling My Phone\n",
      "Beggin'\n",
      "Ball If I Want To\n",
      "Gone\n",
      "Wasting Time\n",
      "Red Light Green Light\n",
      "Things A Man Oughta Know\n",
      "Favorite Crime\n",
      "Settling Down\n",
      "Way Less Sad\n",
      "Straightenin\n",
      "Ski\n",
      "AM\n",
      "Arcade\n",
      "Happier\n",
      "You\n",
      "my.life\n",
      "Chasing After You\n",
      "Drunk (And I Don't Wanna Go Home)\n",
      "Need To Know\n",
      "Track Star\n",
      "One Too Many\n",
      "Hats Off\n",
      "Brutal\n",
      "Build A Bitch\n",
      "Breaking Up Was Easy In The 90's\n",
      "Country Again\n",
      "Fiel\n",
      "Renegade\n",
      "Waves\n",
      "We Didn't Have Much\n",
      "Minimum Wage\n",
      "Follow You\n",
      "Jealousy, Jealousy\n",
      "Come Through\n",
      "Twerkulator\n",
      "Cry No More\n",
      "Essence\n",
      "A-O-K\n",
      "4 Da Gang\n",
      "Tombstone\n",
      "Made For You\n",
      "Having Our Way\n",
      "My Boy\n",
      "transparentsoul\n",
      "You Should Probably Leave\n",
      "I Was On A Boat That Day\n",
      "Outside\n",
      "Working\n",
      "Miss The Rage\n",
      "Cold Beer Calling My Name\n",
      "All I Know So Far\n",
      "What's Next\n",
      "Enough For You\n",
      "Juggernaut\n",
      "Tell Em\n"
     ]
    }
   ],
   "source": [
    "for i in range(len(title_list)):\n",
    "    print(soup.select(\"span.chart-element__information__song\")[i].text)"
   ]
  },
  {
   "cell_type": "code",
   "execution_count": 9,
   "metadata": {},
   "outputs": [],
   "source": [
    "# extracting the artists\n",
    "artist_list=soup.select(\"span.chart-element__information__artist\")"
   ]
  },
  {
   "cell_type": "code",
   "execution_count": 10,
   "metadata": {},
   "outputs": [
    {
     "name": "stdout",
     "output_type": "stream",
     "text": [
      "BTS\n",
      "Olivia Rodrigo\n",
      "Dua Lipa Featuring DaBaby\n",
      "Doja Cat Featuring SZA\n",
      "Lil Nas X\n",
      "Ed Sheeran\n",
      "Silk Sonic (Bruno Mars & Anderson .Paak)\n",
      "Justin Bieber Featuring Daniel Caesar & Giveon\n",
      "The Weeknd & Ariana Grande\n",
      "Olivia Rodrigo\n",
      "Masked Wolf\n",
      "Polo G\n",
      "Doja Cat & The Weeknd\n",
      "Aaron Lewis\n",
      "The Weeknd\n",
      "The Kid LAROI\n",
      "Megan Thee Stallion\n",
      "Luke Combs\n",
      "Giveon\n",
      "Walker Hayes\n",
      "DJ Khaled Featuring Lil Baby & Lil Durk\n",
      "Chris Young + Kane Brown\n",
      "Maroon 5 Featuring Megan Thee Stallion\n",
      "Saweetie Featuring Doja Cat\n",
      "Nelly & Florida Georgia Line\n",
      "Cole Swindell\n",
      "Glass Animals\n",
      "Marshmello X Jonas Brothers\n",
      "Drake Featuring Lil Baby\n",
      "Bad Bunny\n",
      "Jason Aldean\n",
      "Roddy Ricch\n",
      "Olivia Rodrigo\n",
      "Kali Uchis\n",
      "Dan + Shay\n",
      "24kGoldn Featuring iann dior\n",
      "Moneybagg Yo\n",
      "Olivia Rodrigo\n",
      "Rauw Alejandro\n",
      "Chase Rice Featuring Florida Georgia Line\n",
      "Doja Cat\n",
      "Ariana Grande\n",
      "Machine Gun Kelly X blackbear\n",
      "Tyler, The Creator Featuring YoungBoy Never Broke Again & Ty Dolla $ign\n",
      "Lil Tjay Featuring 6LACK\n",
      "Maneskin\n",
      "DaBaby\n",
      "Dierks Bentley\n",
      "Brent Faiyaz Featuring Drake\n",
      "DaBaby\n",
      "Lainey Wilson\n",
      "Olivia Rodrigo\n",
      "Miranda Lambert\n",
      "AJR\n",
      "Migos\n",
      "Young Thug & Gunna\n",
      "Nio Garcia X J Balvin X Bad Bunny\n",
      "Duncan Laurence\n",
      "Olivia Rodrigo\n",
      "Regard x Troye Sivan x Tate McRae\n",
      "J. Cole, 21 Savage & Morray\n",
      "Ryan Hurd With Maren Morris\n",
      "Elle King & Miranda Lambert\n",
      "Doja Cat\n",
      "Mooski\n",
      "Keith Urban Duet With P!nk\n",
      "Lil Baby, Lil Durk & Travis Scott\n",
      "Olivia Rodrigo\n",
      "Bella Poarch\n",
      "Sam Hunt\n",
      "Thomas Rhett\n",
      "Los Legendarios, Wisin & Jhay Cortez\n",
      "Big Red Machine Featuring Taylor Swift\n",
      "Luke Bryan\n",
      "Justin Moore\n",
      "Blake Shelton\n",
      "Imagine Dragons\n",
      "Olivia Rodrigo\n",
      "H.E.R. Featuring Chris Brown\n",
      "City Girls\n",
      "G Herbo Featuring Polo G & Lil Tjay\n",
      "Wizkid Featuring Tems\n",
      "Tai Verdes\n",
      "42 Dugg & Roddy Ricch\n",
      "Rod Wave\n",
      "Jake Owen\n",
      "Migos Featuring Drake\n",
      "Elvie Shane\n",
      "Willow Featuring Travis Barker\n",
      "Chris Stapleton\n",
      "Old Dominion\n",
      "MO3 X OG Bobby Billions\n",
      "Tate McRae X Khalid\n",
      "Trippie Redd & Playboi Carti\n",
      "Jameson Rodgers Featuring Luke Combs\n",
      "P!nk\n",
      "Drake\n",
      "Olivia Rodrigo\n",
      "Tyler, The Creator Featuring Lil Uzi Vert & Pharrell Williams\n",
      "Cochise & $NOT\n"
     ]
    }
   ],
   "source": [
    "for i in range(len(artist_list)):\n",
    "    print(soup.select(\"span.chart-element__information__artist\")[i].text)"
   ]
  },
  {
   "cell_type": "markdown",
   "metadata": {},
   "source": [
    "#### Joining the 2 lists and storing in a DataFrame"
   ]
  },
  {
   "cell_type": "code",
   "execution_count": 11,
   "metadata": {},
   "outputs": [],
   "source": [
    "songs=[]\n",
    "artists=[]\n",
    "len_songs=len(soup.select(\"span.chart-element__information__song\"))"
   ]
  },
  {
   "cell_type": "code",
   "execution_count": 12,
   "metadata": {},
   "outputs": [],
   "source": [
    "for i in range(len_songs):\n",
    "    songs.append(soup.select(\"span.chart-element__information__song\")[i].text)\n",
    "    artists.append(soup.select(\"span.chart-element__information__artist\")[i].text)"
   ]
  },
  {
   "cell_type": "code",
   "execution_count": 13,
   "metadata": {},
   "outputs": [
    {
     "data": {
      "text/plain": [
       "100"
      ]
     },
     "execution_count": 13,
     "metadata": {},
     "output_type": "execute_result"
    }
   ],
   "source": [
    "len(songs)"
   ]
  },
  {
   "cell_type": "code",
   "execution_count": 14,
   "metadata": {},
   "outputs": [
    {
     "data": {
      "text/plain": [
       "100"
      ]
     },
     "execution_count": 14,
     "metadata": {},
     "output_type": "execute_result"
    }
   ],
   "source": [
    "len(artists)"
   ]
  },
  {
   "cell_type": "code",
   "execution_count": 15,
   "metadata": {},
   "outputs": [],
   "source": [
    "songs_hot100=pd.DataFrame({\"song\":songs,\"artist\":artists})"
   ]
  },
  {
   "cell_type": "code",
   "execution_count": 16,
   "metadata": {},
   "outputs": [
    {
     "data": {
      "text/plain": [
       "(100, 2)"
      ]
     },
     "execution_count": 16,
     "metadata": {},
     "output_type": "execute_result"
    }
   ],
   "source": [
    "songs_hot100.shape"
   ]
  },
  {
   "cell_type": "code",
   "execution_count": 17,
   "metadata": {},
   "outputs": [
    {
     "data": {
      "text/html": [
       "<div>\n",
       "<style scoped>\n",
       "    .dataframe tbody tr th:only-of-type {\n",
       "        vertical-align: middle;\n",
       "    }\n",
       "\n",
       "    .dataframe tbody tr th {\n",
       "        vertical-align: top;\n",
       "    }\n",
       "\n",
       "    .dataframe thead th {\n",
       "        text-align: right;\n",
       "    }\n",
       "</style>\n",
       "<table border=\"1\" class=\"dataframe\">\n",
       "  <thead>\n",
       "    <tr style=\"text-align: right;\">\n",
       "      <th></th>\n",
       "      <th>song</th>\n",
       "      <th>artist</th>\n",
       "    </tr>\n",
       "  </thead>\n",
       "  <tbody>\n",
       "    <tr>\n",
       "      <th>0</th>\n",
       "      <td>Butter</td>\n",
       "      <td>BTS</td>\n",
       "    </tr>\n",
       "    <tr>\n",
       "      <th>1</th>\n",
       "      <td>Good 4 U</td>\n",
       "      <td>Olivia Rodrigo</td>\n",
       "    </tr>\n",
       "    <tr>\n",
       "      <th>2</th>\n",
       "      <td>Levitating</td>\n",
       "      <td>Dua Lipa Featuring DaBaby</td>\n",
       "    </tr>\n",
       "    <tr>\n",
       "      <th>3</th>\n",
       "      <td>Kiss Me More</td>\n",
       "      <td>Doja Cat Featuring SZA</td>\n",
       "    </tr>\n",
       "    <tr>\n",
       "      <th>4</th>\n",
       "      <td>Montero (Call Me By Your Name)</td>\n",
       "      <td>Lil Nas X</td>\n",
       "    </tr>\n",
       "    <tr>\n",
       "      <th>5</th>\n",
       "      <td>Bad Habits</td>\n",
       "      <td>Ed Sheeran</td>\n",
       "    </tr>\n",
       "    <tr>\n",
       "      <th>6</th>\n",
       "      <td>Leave The Door Open</td>\n",
       "      <td>Silk Sonic (Bruno Mars &amp; Anderson .Paak)</td>\n",
       "    </tr>\n",
       "    <tr>\n",
       "      <th>7</th>\n",
       "      <td>Peaches</td>\n",
       "      <td>Justin Bieber Featuring Daniel Caesar &amp; Giveon</td>\n",
       "    </tr>\n",
       "    <tr>\n",
       "      <th>8</th>\n",
       "      <td>Save Your Tears</td>\n",
       "      <td>The Weeknd &amp; Ariana Grande</td>\n",
       "    </tr>\n",
       "    <tr>\n",
       "      <th>9</th>\n",
       "      <td>Deja Vu</td>\n",
       "      <td>Olivia Rodrigo</td>\n",
       "    </tr>\n",
       "  </tbody>\n",
       "</table>\n",
       "</div>"
      ],
      "text/plain": [
       "                             song  \\\n",
       "0                          Butter   \n",
       "1                        Good 4 U   \n",
       "2                      Levitating   \n",
       "3                    Kiss Me More   \n",
       "4  Montero (Call Me By Your Name)   \n",
       "5                      Bad Habits   \n",
       "6             Leave The Door Open   \n",
       "7                         Peaches   \n",
       "8                 Save Your Tears   \n",
       "9                         Deja Vu   \n",
       "\n",
       "                                           artist  \n",
       "0                                             BTS  \n",
       "1                                  Olivia Rodrigo  \n",
       "2                       Dua Lipa Featuring DaBaby  \n",
       "3                          Doja Cat Featuring SZA  \n",
       "4                                       Lil Nas X  \n",
       "5                                      Ed Sheeran  \n",
       "6        Silk Sonic (Bruno Mars & Anderson .Paak)  \n",
       "7  Justin Bieber Featuring Daniel Caesar & Giveon  \n",
       "8                      The Weeknd & Ariana Grande  \n",
       "9                                  Olivia Rodrigo  "
      ]
     },
     "execution_count": 17,
     "metadata": {},
     "output_type": "execute_result"
    }
   ],
   "source": [
    "songs_hot100.head(10)"
   ]
  },
  {
   "cell_type": "markdown",
   "metadata": {},
   "source": [
    "#### First Prototype"
   ]
  },
  {
   "cell_type": "code",
   "execution_count": 18,
   "metadata": {},
   "outputs": [
    {
     "name": "stdout",
     "output_type": "stream",
     "text": [
      "Tell us a hot song you like: Butter\n",
      "Did you mean Butter by BTS? yes\n",
      "This is a hot song, maybe you like:\n",
      "We Didn't Have Much by Justin Moore\n"
     ]
    }
   ],
   "source": [
    "from random import randint\n",
    "\n",
    "song=input('Tell us a hot song you like: ').title()\n",
    "contains=songs_hot100[songs_hot100['song'].str.contains(song)]\n",
    "\n",
    "if len(contains) == 0:\n",
    "    print('This is not a hot song, sorry')\n",
    "else:\n",
    "    check=input('Did you mean ' + contains['song'].values[0] + ' by ' + contains['artist'].values[0] + '? ')\n",
    "    \n",
    "    if check == 'yes':\n",
    "        print('This is a hot song, maybe you like:')\n",
    "        random_song=randint(0,len(songs_hot100)-1)\n",
    "        print(songs_hot100['song'][random_song] + ' by ' + songs_hot100['artist'][random_song])\n",
    "    else:\n",
    "        print('Sorry, try another song')\n",
    "    "
   ]
  },
  {
   "cell_type": "code",
   "execution_count": 19,
   "metadata": {},
   "outputs": [],
   "source": [
    "songs_hot100.to_csv('songs_hot100.csv', index=False)"
   ]
  },
  {
   "cell_type": "markdown",
   "metadata": {},
   "source": [
    "### Stage 2: Collecting the data"
   ]
  },
  {
   "cell_type": "markdown",
   "metadata": {},
   "source": [
    "#### Importing needed libraries for this stage"
   ]
  },
  {
   "cell_type": "code",
   "execution_count": 20,
   "metadata": {},
   "outputs": [],
   "source": [
    "import spotipy # install if needed\n",
    "from spotipy.oauth2 import SpotifyClientCredentials\n",
    "import getpass\n",
    "from time import sleep"
   ]
  },
  {
   "cell_type": "markdown",
   "metadata": {},
   "source": [
    "#### Getting credentials for using the Spotify's API"
   ]
  },
  {
   "cell_type": "code",
   "execution_count": 21,
   "metadata": {},
   "outputs": [
    {
     "name": "stdout",
     "output_type": "stream",
     "text": [
      "client_id?········\n",
      "client_secret?········\n"
     ]
    }
   ],
   "source": [
    "client_id=str(getpass.getpass('client_id?'))\n",
    "client_secret=str(getpass.getpass('client_secret?'))"
   ]
  },
  {
   "cell_type": "code",
   "execution_count": 22,
   "metadata": {},
   "outputs": [],
   "source": [
    "sp = spotipy.Spotify(auth_manager=SpotifyClientCredentials(client_id=client_id, client_secret=client_secret))"
   ]
  },
  {
   "cell_type": "markdown",
   "metadata": {},
   "source": [
    "#### Collecting the data from selected playlists"
   ]
  },
  {
   "cell_type": "raw",
   "metadata": {},
   "source": [
    "list_1 = http://open.spotify.com/playlist/5S8SJdl1BDc0ugpkEvFsIL?si=uBt53b73Sp-oqWKq-abxdQ&nd=1\n",
    "list_2 = http://open.spotify.com/playlist/7I6XVNQVayB46Zzh4GNPoU?si=FlWm1-RqQ02RmD0UOUirfg&utm_source=copy-link&nd=1\n",
    "list_3 = http://open.spotify.com/playlist/532F1h299qKD894BlPfJJF?si=3e11fbe3703b427f&nd=1\n",
    "list_4 = http://open.spotify.com/playlist/3WWv2APRYe9jR8L1YnK1Up?si=1_tp9afpT2Oz1AIEJ2zClg&nd=1"
   ]
  },
  {
   "cell_type": "code",
   "execution_count": 23,
   "metadata": {},
   "outputs": [],
   "source": [
    "# Storing the playlists' id\n",
    "\n",
    "pl_id_1 = \"5S8SJdl1BDc0ugpkEvFsIL\"\n",
    "pl_id_2 = \"7I6XVNQVayB46Zzh4GNPoU\"\n",
    "pl_id_3 = \"532F1h299qKD894BlPfJJF\"\n",
    "pl_id_4 = \"3WWv2APRYe9jR8L1YnK1Up\""
   ]
  },
  {
   "cell_type": "markdown",
   "metadata": {},
   "source": [
    "#### Getting a list from each playlist"
   ]
  },
  {
   "cell_type": "code",
   "execution_count": 24,
   "metadata": {},
   "outputs": [],
   "source": [
    "def get_playlist_tracks(playlist_id):\n",
    "    results = sp.user_playlist_tracks(\"spotify\", playlist_id)\n",
    "    tracks = results['items']\n",
    "    while results['next']:\n",
    "        results = sp.next(results)\n",
    "        tracks.extend(results['items'])\n",
    "    return tracks"
   ]
  },
  {
   "cell_type": "code",
   "execution_count": 25,
   "metadata": {},
   "outputs": [],
   "source": [
    "playlist_1 = get_playlist_tracks(pl_id_1)\n",
    "playlist_2 = get_playlist_tracks(pl_id_2)\n",
    "playlist_3 = get_playlist_tracks(pl_id_3)\n",
    "playlist_4 = get_playlist_tracks(pl_id_4)"
   ]
  },
  {
   "cell_type": "markdown",
   "metadata": {},
   "source": [
    "#### Looking for id, title and artist from a single song"
   ]
  },
  {
   "cell_type": "code",
   "execution_count": 26,
   "metadata": {},
   "outputs": [
    {
     "data": {
      "text/plain": [
       "'1lpLrlyweOShEKXT1bpcDd'"
      ]
     },
     "execution_count": 26,
     "metadata": {},
     "output_type": "execute_result"
    }
   ],
   "source": [
    "playlist_2[0]['track']['id']   # id"
   ]
  },
  {
   "cell_type": "code",
   "execution_count": 27,
   "metadata": {},
   "outputs": [
    {
     "data": {
      "text/plain": [
       "'Joy Again'"
      ]
     },
     "execution_count": 27,
     "metadata": {},
     "output_type": "execute_result"
    }
   ],
   "source": [
    "playlist_2[0]['track']['artists'][0]['name']   # artist"
   ]
  },
  {
   "cell_type": "code",
   "execution_count": 28,
   "metadata": {},
   "outputs": [
    {
     "data": {
      "text/plain": [
       "'Looking Out for You'"
      ]
     },
     "execution_count": 28,
     "metadata": {},
     "output_type": "execute_result"
    }
   ],
   "source": [
    "playlist_2[0]['track']['name']   # title"
   ]
  },
  {
   "cell_type": "markdown",
   "metadata": {},
   "source": [
    "#### Listing id, title and artist for all the songs"
   ]
  },
  {
   "cell_type": "code",
   "execution_count": 29,
   "metadata": {},
   "outputs": [],
   "source": [
    "_id = []\n",
    "title = []\n",
    "artist = []"
   ]
  },
  {
   "cell_type": "code",
   "execution_count": 30,
   "metadata": {},
   "outputs": [],
   "source": [
    "def get_id_title_artist(pl):\n",
    "    for item in range(len(pl)):\n",
    "        _id.append(pl[item]['track']['id'])\n",
    "        title.append(pl[item]['track']['name'])\n",
    "        artist.append(pl[item]['track']['artists'][0]['name'])"
   ]
  },
  {
   "cell_type": "code",
   "execution_count": 31,
   "metadata": {},
   "outputs": [],
   "source": [
    "get_id_title_artist(playlist_1)\n",
    "get_id_title_artist(playlist_2)\n",
    "get_id_title_artist(playlist_3)\n",
    "get_id_title_artist(playlist_4)"
   ]
  },
  {
   "cell_type": "markdown",
   "metadata": {},
   "source": [
    "#### Creating a DataFrame for id, title and artist  (info)"
   ]
  },
  {
   "cell_type": "code",
   "execution_count": 32,
   "metadata": {},
   "outputs": [
    {
     "data": {
      "text/plain": [
       "35664"
      ]
     },
     "execution_count": 32,
     "metadata": {},
     "output_type": "execute_result"
    }
   ],
   "source": [
    "len(_id)"
   ]
  },
  {
   "cell_type": "code",
   "execution_count": 33,
   "metadata": {},
   "outputs": [
    {
     "data": {
      "text/plain": [
       "35664"
      ]
     },
     "execution_count": 33,
     "metadata": {},
     "output_type": "execute_result"
    }
   ],
   "source": [
    "len(artist)"
   ]
  },
  {
   "cell_type": "code",
   "execution_count": 34,
   "metadata": {},
   "outputs": [
    {
     "data": {
      "text/plain": [
       "35664"
      ]
     },
     "execution_count": 34,
     "metadata": {},
     "output_type": "execute_result"
    }
   ],
   "source": [
    "len(title)"
   ]
  },
  {
   "cell_type": "code",
   "execution_count": 35,
   "metadata": {},
   "outputs": [],
   "source": [
    "info = pd.DataFrame({'id' : _id, 'title' : title, 'artist' : artist})"
   ]
  },
  {
   "cell_type": "code",
   "execution_count": 36,
   "metadata": {},
   "outputs": [
    {
     "data": {
      "text/plain": [
       "(35664, 3)"
      ]
     },
     "execution_count": 36,
     "metadata": {},
     "output_type": "execute_result"
    }
   ],
   "source": [
    "info.shape"
   ]
  },
  {
   "cell_type": "code",
   "execution_count": 37,
   "metadata": {},
   "outputs": [
    {
     "data": {
      "text/html": [
       "<div>\n",
       "<style scoped>\n",
       "    .dataframe tbody tr th:only-of-type {\n",
       "        vertical-align: middle;\n",
       "    }\n",
       "\n",
       "    .dataframe tbody tr th {\n",
       "        vertical-align: top;\n",
       "    }\n",
       "\n",
       "    .dataframe thead th {\n",
       "        text-align: right;\n",
       "    }\n",
       "</style>\n",
       "<table border=\"1\" class=\"dataframe\">\n",
       "  <thead>\n",
       "    <tr style=\"text-align: right;\">\n",
       "      <th></th>\n",
       "      <th>id</th>\n",
       "      <th>title</th>\n",
       "      <th>artist</th>\n",
       "    </tr>\n",
       "  </thead>\n",
       "  <tbody>\n",
       "    <tr>\n",
       "      <th>0</th>\n",
       "      <td>7zgqtptZvhf8GEmdsM2vp2</td>\n",
       "      <td>...Ready For It?</td>\n",
       "      <td>Taylor Swift</td>\n",
       "    </tr>\n",
       "    <tr>\n",
       "      <th>1</th>\n",
       "      <td>4Vxu50qVrQcycjRyJQaZLC</td>\n",
       "      <td>Life Changes</td>\n",
       "      <td>Thomas Rhett</td>\n",
       "    </tr>\n",
       "    <tr>\n",
       "      <th>2</th>\n",
       "      <td>6b8Be6ljOzmkOmFslEb23P</td>\n",
       "      <td>24K Magic</td>\n",
       "      <td>Bruno Mars</td>\n",
       "    </tr>\n",
       "    <tr>\n",
       "      <th>3</th>\n",
       "      <td>0afhq8XCExXpqazXczTSve</td>\n",
       "      <td>Galway Girl</td>\n",
       "      <td>Ed Sheeran</td>\n",
       "    </tr>\n",
       "    <tr>\n",
       "      <th>4</th>\n",
       "      <td>1HNkqx9Ahdgi1Ixy2xkKkL</td>\n",
       "      <td>Photograph</td>\n",
       "      <td>Ed Sheeran</td>\n",
       "    </tr>\n",
       "    <tr>\n",
       "      <th>...</th>\n",
       "      <td>...</td>\n",
       "      <td>...</td>\n",
       "      <td>...</td>\n",
       "    </tr>\n",
       "    <tr>\n",
       "      <th>35659</th>\n",
       "      <td>3kOl8elYophLlBuDIaH8gb</td>\n",
       "      <td>Pyretta Blaze</td>\n",
       "      <td>Type O Negative</td>\n",
       "    </tr>\n",
       "    <tr>\n",
       "      <th>35660</th>\n",
       "      <td>6jTpj6yGuX2Bp8L21GD4pf</td>\n",
       "      <td>All Hallows Eve</td>\n",
       "      <td>Type O Negative</td>\n",
       "    </tr>\n",
       "    <tr>\n",
       "      <th>35661</th>\n",
       "      <td>2PPCAZ1iB0a2lS1NeWU1f9</td>\n",
       "      <td>Day Tripper - Medley</td>\n",
       "      <td>Type O Negative</td>\n",
       "    </tr>\n",
       "    <tr>\n",
       "      <th>35662</th>\n",
       "      <td>4FR4Fcyd8JNdhsHKSTUpnR</td>\n",
       "      <td>Neverland</td>\n",
       "      <td>Van Canto</td>\n",
       "    </tr>\n",
       "    <tr>\n",
       "      <th>35663</th>\n",
       "      <td>2iSiU7MJuiVw3aUsJoZy15</td>\n",
       "      <td>Mind Control</td>\n",
       "      <td>Tantric</td>\n",
       "    </tr>\n",
       "  </tbody>\n",
       "</table>\n",
       "<p>34608 rows × 3 columns</p>\n",
       "</div>"
      ],
      "text/plain": [
       "                           id                 title           artist\n",
       "0      7zgqtptZvhf8GEmdsM2vp2      ...Ready For It?     Taylor Swift\n",
       "1      4Vxu50qVrQcycjRyJQaZLC          Life Changes     Thomas Rhett\n",
       "2      6b8Be6ljOzmkOmFslEb23P             24K Magic       Bruno Mars\n",
       "3      0afhq8XCExXpqazXczTSve           Galway Girl       Ed Sheeran\n",
       "4      1HNkqx9Ahdgi1Ixy2xkKkL            Photograph       Ed Sheeran\n",
       "...                       ...                   ...              ...\n",
       "35659  3kOl8elYophLlBuDIaH8gb         Pyretta Blaze  Type O Negative\n",
       "35660  6jTpj6yGuX2Bp8L21GD4pf       All Hallows Eve  Type O Negative\n",
       "35661  2PPCAZ1iB0a2lS1NeWU1f9  Day Tripper - Medley  Type O Negative\n",
       "35662  4FR4Fcyd8JNdhsHKSTUpnR             Neverland        Van Canto\n",
       "35663  2iSiU7MJuiVw3aUsJoZy15          Mind Control          Tantric\n",
       "\n",
       "[34608 rows x 3 columns]"
      ]
     },
     "execution_count": 37,
     "metadata": {},
     "output_type": "execute_result"
    }
   ],
   "source": [
    "info.drop_duplicates() # dealing with duplicates"
   ]
  },
  {
   "cell_type": "code",
   "execution_count": 38,
   "metadata": {},
   "outputs": [
    {
     "data": {
      "text/plain": [
       "(35664, 3)"
      ]
     },
     "execution_count": 38,
     "metadata": {},
     "output_type": "execute_result"
    }
   ],
   "source": [
    "info.shape # there are no duplicates"
   ]
  },
  {
   "cell_type": "markdown",
   "metadata": {},
   "source": [
    "#### Getting audio features for all the songs"
   ]
  },
  {
   "cell_type": "markdown",
   "metadata": {},
   "source": [
    "The first idea was building a for loop in order to get all audio features in one go. But we finally need to go from lot to lot because it gives error and it doesn't allow us to do that. So we run the next code 9 times, 1 for every lot of songs, and we have stored them in data frames."
   ]
  },
  {
   "cell_type": "code",
   "execution_count": null,
   "metadata": {},
   "outputs": [],
   "source": [
    "features = []\n",
    "\n",
    "for song in _id:\n",
    "    #sleep(0.25)\n",
    "    audio = sp.audio_features(tracks=song)\n",
    "    features.append(audio[0])"
   ]
  },
  {
   "cell_type": "code",
   "execution_count": null,
   "metadata": {},
   "outputs": [],
   "source": [
    "df = pd.DataFrame(features)"
   ]
  },
  {
   "cell_type": "markdown",
   "metadata": {},
   "source": [
    "#### Concatenating the DataFrames"
   ]
  },
  {
   "cell_type": "code",
   "execution_count": 40,
   "metadata": {},
   "outputs": [],
   "source": [
    "df1 = pd.read_csv('../df1.csv')\n",
    "df2 = pd.read_csv('../df1_2.csv')\n",
    "df3 = pd.read_csv('../df_2_1.csv')\n",
    "df4 = pd.read_csv('../df_2_3.csv')\n",
    "df5 = pd.read_csv('../df_2_4.csv')\n",
    "df6 = pd.read_csv('../df3.csv')\n",
    "df7 = pd.read_csv('../df_4_1.csv')\n",
    "df8 = pd.read_csv('../df4_2.csv')\n",
    "df9 = pd.read_csv('../df_4_3.csv')"
   ]
  },
  {
   "cell_type": "code",
   "execution_count": 41,
   "metadata": {},
   "outputs": [],
   "source": [
    "audio=pd.concat([df1, df2, df3, df4, df5, df6, df7, df8, df9])"
   ]
  },
  {
   "cell_type": "code",
   "execution_count": 42,
   "metadata": {},
   "outputs": [],
   "source": [
    "audio = audio.drop_duplicates(subset=['id'])"
   ]
  },
  {
   "cell_type": "code",
   "execution_count": 43,
   "metadata": {},
   "outputs": [
    {
     "data": {
      "text/plain": [
       "(25477, 19)"
      ]
     },
     "execution_count": 43,
     "metadata": {},
     "output_type": "execute_result"
    }
   ],
   "source": [
    "audio.shape"
   ]
  },
  {
   "cell_type": "code",
   "execution_count": 44,
   "metadata": {},
   "outputs": [
    {
     "data": {
      "text/plain": [
       "25477"
      ]
     },
     "execution_count": 44,
     "metadata": {},
     "output_type": "execute_result"
    }
   ],
   "source": [
    "len(audio['id'].unique())"
   ]
  },
  {
   "cell_type": "code",
   "execution_count": 45,
   "metadata": {},
   "outputs": [
    {
     "data": {
      "text/plain": [
       "34588"
      ]
     },
     "execution_count": 45,
     "metadata": {},
     "output_type": "execute_result"
    }
   ],
   "source": [
    "len(info['id'].unique())"
   ]
  },
  {
   "cell_type": "code",
   "execution_count": 46,
   "metadata": {},
   "outputs": [],
   "source": [
    "info=info.drop_duplicates(subset=['title'])"
   ]
  },
  {
   "cell_type": "code",
   "execution_count": 47,
   "metadata": {},
   "outputs": [],
   "source": [
    "songs = pd.merge(info, audio, on=\"id\")"
   ]
  },
  {
   "cell_type": "code",
   "execution_count": 48,
   "metadata": {},
   "outputs": [
    {
     "data": {
      "text/html": [
       "<div>\n",
       "<style scoped>\n",
       "    .dataframe tbody tr th:only-of-type {\n",
       "        vertical-align: middle;\n",
       "    }\n",
       "\n",
       "    .dataframe tbody tr th {\n",
       "        vertical-align: top;\n",
       "    }\n",
       "\n",
       "    .dataframe thead th {\n",
       "        text-align: right;\n",
       "    }\n",
       "</style>\n",
       "<table border=\"1\" class=\"dataframe\">\n",
       "  <thead>\n",
       "    <tr style=\"text-align: right;\">\n",
       "      <th></th>\n",
       "      <th>id</th>\n",
       "      <th>title</th>\n",
       "      <th>artist</th>\n",
       "      <th>Unnamed: 0</th>\n",
       "      <th>danceability</th>\n",
       "      <th>energy</th>\n",
       "      <th>key</th>\n",
       "      <th>loudness</th>\n",
       "      <th>mode</th>\n",
       "      <th>speechiness</th>\n",
       "      <th>...</th>\n",
       "      <th>instrumentalness</th>\n",
       "      <th>liveness</th>\n",
       "      <th>valence</th>\n",
       "      <th>tempo</th>\n",
       "      <th>type</th>\n",
       "      <th>uri</th>\n",
       "      <th>track_href</th>\n",
       "      <th>analysis_url</th>\n",
       "      <th>duration_ms</th>\n",
       "      <th>time_signature</th>\n",
       "    </tr>\n",
       "  </thead>\n",
       "  <tbody>\n",
       "    <tr>\n",
       "      <th>0</th>\n",
       "      <td>7zgqtptZvhf8GEmdsM2vp2</td>\n",
       "      <td>...Ready For It?</td>\n",
       "      <td>Taylor Swift</td>\n",
       "      <td>0</td>\n",
       "      <td>0.615</td>\n",
       "      <td>0.779</td>\n",
       "      <td>2</td>\n",
       "      <td>-6.454</td>\n",
       "      <td>1</td>\n",
       "      <td>0.1350</td>\n",
       "      <td>...</td>\n",
       "      <td>0.000000</td>\n",
       "      <td>0.1550</td>\n",
       "      <td>0.4530</td>\n",
       "      <td>160.000</td>\n",
       "      <td>audio_features</td>\n",
       "      <td>spotify:track:7zgqtptZvhf8GEmdsM2vp2</td>\n",
       "      <td>https://api.spotify.com/v1/tracks/7zgqtptZvhf8...</td>\n",
       "      <td>https://api.spotify.com/v1/audio-analysis/7zgq...</td>\n",
       "      <td>208198</td>\n",
       "      <td>4</td>\n",
       "    </tr>\n",
       "    <tr>\n",
       "      <th>1</th>\n",
       "      <td>4Vxu50qVrQcycjRyJQaZLC</td>\n",
       "      <td>Life Changes</td>\n",
       "      <td>Thomas Rhett</td>\n",
       "      <td>1</td>\n",
       "      <td>0.687</td>\n",
       "      <td>0.845</td>\n",
       "      <td>7</td>\n",
       "      <td>-4.370</td>\n",
       "      <td>1</td>\n",
       "      <td>0.0576</td>\n",
       "      <td>...</td>\n",
       "      <td>0.000000</td>\n",
       "      <td>0.0452</td>\n",
       "      <td>0.8090</td>\n",
       "      <td>87.972</td>\n",
       "      <td>audio_features</td>\n",
       "      <td>spotify:track:4Vxu50qVrQcycjRyJQaZLC</td>\n",
       "      <td>https://api.spotify.com/v1/tracks/4Vxu50qVrQcy...</td>\n",
       "      <td>https://api.spotify.com/v1/audio-analysis/4Vxu...</td>\n",
       "      <td>190227</td>\n",
       "      <td>4</td>\n",
       "    </tr>\n",
       "    <tr>\n",
       "      <th>2</th>\n",
       "      <td>6b8Be6ljOzmkOmFslEb23P</td>\n",
       "      <td>24K Magic</td>\n",
       "      <td>Bruno Mars</td>\n",
       "      <td>2</td>\n",
       "      <td>0.818</td>\n",
       "      <td>0.803</td>\n",
       "      <td>1</td>\n",
       "      <td>-4.282</td>\n",
       "      <td>1</td>\n",
       "      <td>0.0797</td>\n",
       "      <td>...</td>\n",
       "      <td>0.000000</td>\n",
       "      <td>0.1530</td>\n",
       "      <td>0.6320</td>\n",
       "      <td>106.970</td>\n",
       "      <td>audio_features</td>\n",
       "      <td>spotify:track:6b8Be6ljOzmkOmFslEb23P</td>\n",
       "      <td>https://api.spotify.com/v1/tracks/6b8Be6ljOzmk...</td>\n",
       "      <td>https://api.spotify.com/v1/audio-analysis/6b8B...</td>\n",
       "      <td>225983</td>\n",
       "      <td>4</td>\n",
       "    </tr>\n",
       "    <tr>\n",
       "      <th>3</th>\n",
       "      <td>0afhq8XCExXpqazXczTSve</td>\n",
       "      <td>Galway Girl</td>\n",
       "      <td>Ed Sheeran</td>\n",
       "      <td>3</td>\n",
       "      <td>0.624</td>\n",
       "      <td>0.876</td>\n",
       "      <td>9</td>\n",
       "      <td>-3.374</td>\n",
       "      <td>1</td>\n",
       "      <td>0.1000</td>\n",
       "      <td>...</td>\n",
       "      <td>0.000000</td>\n",
       "      <td>0.3270</td>\n",
       "      <td>0.7810</td>\n",
       "      <td>99.943</td>\n",
       "      <td>audio_features</td>\n",
       "      <td>spotify:track:0afhq8XCExXpqazXczTSve</td>\n",
       "      <td>https://api.spotify.com/v1/tracks/0afhq8XCExXp...</td>\n",
       "      <td>https://api.spotify.com/v1/audio-analysis/0afh...</td>\n",
       "      <td>170827</td>\n",
       "      <td>4</td>\n",
       "    </tr>\n",
       "    <tr>\n",
       "      <th>4</th>\n",
       "      <td>1HNkqx9Ahdgi1Ixy2xkKkL</td>\n",
       "      <td>Photograph</td>\n",
       "      <td>Ed Sheeran</td>\n",
       "      <td>4</td>\n",
       "      <td>0.614</td>\n",
       "      <td>0.379</td>\n",
       "      <td>4</td>\n",
       "      <td>-10.480</td>\n",
       "      <td>1</td>\n",
       "      <td>0.0476</td>\n",
       "      <td>...</td>\n",
       "      <td>0.000464</td>\n",
       "      <td>0.0986</td>\n",
       "      <td>0.2010</td>\n",
       "      <td>107.989</td>\n",
       "      <td>audio_features</td>\n",
       "      <td>spotify:track:1HNkqx9Ahdgi1Ixy2xkKkL</td>\n",
       "      <td>https://api.spotify.com/v1/tracks/1HNkqx9Ahdgi...</td>\n",
       "      <td>https://api.spotify.com/v1/audio-analysis/1HNk...</td>\n",
       "      <td>258987</td>\n",
       "      <td>4</td>\n",
       "    </tr>\n",
       "    <tr>\n",
       "      <th>...</th>\n",
       "      <td>...</td>\n",
       "      <td>...</td>\n",
       "      <td>...</td>\n",
       "      <td>...</td>\n",
       "      <td>...</td>\n",
       "      <td>...</td>\n",
       "      <td>...</td>\n",
       "      <td>...</td>\n",
       "      <td>...</td>\n",
       "      <td>...</td>\n",
       "      <td>...</td>\n",
       "      <td>...</td>\n",
       "      <td>...</td>\n",
       "      <td>...</td>\n",
       "      <td>...</td>\n",
       "      <td>...</td>\n",
       "      <td>...</td>\n",
       "      <td>...</td>\n",
       "      <td>...</td>\n",
       "      <td>...</td>\n",
       "      <td>...</td>\n",
       "    </tr>\n",
       "    <tr>\n",
       "      <th>21228</th>\n",
       "      <td>4TqEj3UMHMyqQuxdJbhgyr</td>\n",
       "      <td>Angry Inch</td>\n",
       "      <td>Type O Negative</td>\n",
       "      <td>3965</td>\n",
       "      <td>0.451</td>\n",
       "      <td>0.993</td>\n",
       "      <td>1</td>\n",
       "      <td>-6.208</td>\n",
       "      <td>0</td>\n",
       "      <td>0.2740</td>\n",
       "      <td>...</td>\n",
       "      <td>0.004100</td>\n",
       "      <td>0.2230</td>\n",
       "      <td>0.0840</td>\n",
       "      <td>97.164</td>\n",
       "      <td>audio_features</td>\n",
       "      <td>spotify:track:4TqEj3UMHMyqQuxdJbhgyr</td>\n",
       "      <td>https://api.spotify.com/v1/tracks/4TqEj3UMHMyq...</td>\n",
       "      <td>https://api.spotify.com/v1/audio-analysis/4TqE...</td>\n",
       "      <td>219067</td>\n",
       "      <td>4</td>\n",
       "    </tr>\n",
       "    <tr>\n",
       "      <th>21229</th>\n",
       "      <td>2U55GjnIRxmKSAxl92JpDR</td>\n",
       "      <td>Anesthesia</td>\n",
       "      <td>Type O Negative</td>\n",
       "      <td>3966</td>\n",
       "      <td>0.331</td>\n",
       "      <td>0.849</td>\n",
       "      <td>9</td>\n",
       "      <td>-9.006</td>\n",
       "      <td>1</td>\n",
       "      <td>0.1090</td>\n",
       "      <td>...</td>\n",
       "      <td>0.391000</td>\n",
       "      <td>0.2650</td>\n",
       "      <td>0.1550</td>\n",
       "      <td>137.405</td>\n",
       "      <td>audio_features</td>\n",
       "      <td>spotify:track:2U55GjnIRxmKSAxl92JpDR</td>\n",
       "      <td>https://api.spotify.com/v1/tracks/2U55GjnIRxmK...</td>\n",
       "      <td>https://api.spotify.com/v1/audio-analysis/2U55...</td>\n",
       "      <td>401187</td>\n",
       "      <td>4</td>\n",
       "    </tr>\n",
       "    <tr>\n",
       "      <th>21230</th>\n",
       "      <td>25dSUnpUZ1qsWVyYjCQg6d</td>\n",
       "      <td>Drunk in Paris</td>\n",
       "      <td>Type O Negative</td>\n",
       "      <td>3967</td>\n",
       "      <td>0.217</td>\n",
       "      <td>0.817</td>\n",
       "      <td>11</td>\n",
       "      <td>-9.564</td>\n",
       "      <td>1</td>\n",
       "      <td>0.0744</td>\n",
       "      <td>...</td>\n",
       "      <td>0.911000</td>\n",
       "      <td>0.4870</td>\n",
       "      <td>0.0561</td>\n",
       "      <td>145.070</td>\n",
       "      <td>audio_features</td>\n",
       "      <td>spotify:track:25dSUnpUZ1qsWVyYjCQg6d</td>\n",
       "      <td>https://api.spotify.com/v1/tracks/25dSUnpUZ1qs...</td>\n",
       "      <td>https://api.spotify.com/v1/audio-analysis/25dS...</td>\n",
       "      <td>87467</td>\n",
       "      <td>5</td>\n",
       "    </tr>\n",
       "    <tr>\n",
       "      <th>21231</th>\n",
       "      <td>5IY7Xa9nKEljsEOehXf7AO</td>\n",
       "      <td>The Dream Is Dead</td>\n",
       "      <td>Type O Negative</td>\n",
       "      <td>3968</td>\n",
       "      <td>0.365</td>\n",
       "      <td>0.945</td>\n",
       "      <td>11</td>\n",
       "      <td>-6.227</td>\n",
       "      <td>1</td>\n",
       "      <td>0.0992</td>\n",
       "      <td>...</td>\n",
       "      <td>0.021500</td>\n",
       "      <td>0.4230</td>\n",
       "      <td>0.1720</td>\n",
       "      <td>137.660</td>\n",
       "      <td>audio_features</td>\n",
       "      <td>spotify:track:5IY7Xa9nKEljsEOehXf7AO</td>\n",
       "      <td>https://api.spotify.com/v1/tracks/5IY7Xa9nKElj...</td>\n",
       "      <td>https://api.spotify.com/v1/audio-analysis/5IY7...</td>\n",
       "      <td>307200</td>\n",
       "      <td>4</td>\n",
       "    </tr>\n",
       "    <tr>\n",
       "      <th>21232</th>\n",
       "      <td>4FR4Fcyd8JNdhsHKSTUpnR</td>\n",
       "      <td>Neverland</td>\n",
       "      <td>Van Canto</td>\n",
       "      <td>3997</td>\n",
       "      <td>0.555</td>\n",
       "      <td>0.902</td>\n",
       "      <td>11</td>\n",
       "      <td>-4.870</td>\n",
       "      <td>0</td>\n",
       "      <td>0.0348</td>\n",
       "      <td>...</td>\n",
       "      <td>0.000000</td>\n",
       "      <td>0.3270</td>\n",
       "      <td>0.3730</td>\n",
       "      <td>84.001</td>\n",
       "      <td>audio_features</td>\n",
       "      <td>spotify:track:4FR4Fcyd8JNdhsHKSTUpnR</td>\n",
       "      <td>https://api.spotify.com/v1/tracks/4FR4Fcyd8JNd...</td>\n",
       "      <td>https://api.spotify.com/v1/audio-analysis/4FR4...</td>\n",
       "      <td>301373</td>\n",
       "      <td>4</td>\n",
       "    </tr>\n",
       "  </tbody>\n",
       "</table>\n",
       "<p>21233 rows × 21 columns</p>\n",
       "</div>"
      ],
      "text/plain": [
       "                           id              title           artist  Unnamed: 0  \\\n",
       "0      7zgqtptZvhf8GEmdsM2vp2   ...Ready For It?     Taylor Swift           0   \n",
       "1      4Vxu50qVrQcycjRyJQaZLC       Life Changes     Thomas Rhett           1   \n",
       "2      6b8Be6ljOzmkOmFslEb23P          24K Magic       Bruno Mars           2   \n",
       "3      0afhq8XCExXpqazXczTSve        Galway Girl       Ed Sheeran           3   \n",
       "4      1HNkqx9Ahdgi1Ixy2xkKkL         Photograph       Ed Sheeran           4   \n",
       "...                       ...                ...              ...         ...   \n",
       "21228  4TqEj3UMHMyqQuxdJbhgyr         Angry Inch  Type O Negative        3965   \n",
       "21229  2U55GjnIRxmKSAxl92JpDR         Anesthesia  Type O Negative        3966   \n",
       "21230  25dSUnpUZ1qsWVyYjCQg6d     Drunk in Paris  Type O Negative        3967   \n",
       "21231  5IY7Xa9nKEljsEOehXf7AO  The Dream Is Dead  Type O Negative        3968   \n",
       "21232  4FR4Fcyd8JNdhsHKSTUpnR          Neverland        Van Canto        3997   \n",
       "\n",
       "       danceability  energy  key  loudness  mode  speechiness  ...  \\\n",
       "0             0.615   0.779    2    -6.454     1       0.1350  ...   \n",
       "1             0.687   0.845    7    -4.370     1       0.0576  ...   \n",
       "2             0.818   0.803    1    -4.282     1       0.0797  ...   \n",
       "3             0.624   0.876    9    -3.374     1       0.1000  ...   \n",
       "4             0.614   0.379    4   -10.480     1       0.0476  ...   \n",
       "...             ...     ...  ...       ...   ...          ...  ...   \n",
       "21228         0.451   0.993    1    -6.208     0       0.2740  ...   \n",
       "21229         0.331   0.849    9    -9.006     1       0.1090  ...   \n",
       "21230         0.217   0.817   11    -9.564     1       0.0744  ...   \n",
       "21231         0.365   0.945   11    -6.227     1       0.0992  ...   \n",
       "21232         0.555   0.902   11    -4.870     0       0.0348  ...   \n",
       "\n",
       "       instrumentalness  liveness  valence    tempo            type  \\\n",
       "0              0.000000    0.1550   0.4530  160.000  audio_features   \n",
       "1              0.000000    0.0452   0.8090   87.972  audio_features   \n",
       "2              0.000000    0.1530   0.6320  106.970  audio_features   \n",
       "3              0.000000    0.3270   0.7810   99.943  audio_features   \n",
       "4              0.000464    0.0986   0.2010  107.989  audio_features   \n",
       "...                 ...       ...      ...      ...             ...   \n",
       "21228          0.004100    0.2230   0.0840   97.164  audio_features   \n",
       "21229          0.391000    0.2650   0.1550  137.405  audio_features   \n",
       "21230          0.911000    0.4870   0.0561  145.070  audio_features   \n",
       "21231          0.021500    0.4230   0.1720  137.660  audio_features   \n",
       "21232          0.000000    0.3270   0.3730   84.001  audio_features   \n",
       "\n",
       "                                        uri  \\\n",
       "0      spotify:track:7zgqtptZvhf8GEmdsM2vp2   \n",
       "1      spotify:track:4Vxu50qVrQcycjRyJQaZLC   \n",
       "2      spotify:track:6b8Be6ljOzmkOmFslEb23P   \n",
       "3      spotify:track:0afhq8XCExXpqazXczTSve   \n",
       "4      spotify:track:1HNkqx9Ahdgi1Ixy2xkKkL   \n",
       "...                                     ...   \n",
       "21228  spotify:track:4TqEj3UMHMyqQuxdJbhgyr   \n",
       "21229  spotify:track:2U55GjnIRxmKSAxl92JpDR   \n",
       "21230  spotify:track:25dSUnpUZ1qsWVyYjCQg6d   \n",
       "21231  spotify:track:5IY7Xa9nKEljsEOehXf7AO   \n",
       "21232  spotify:track:4FR4Fcyd8JNdhsHKSTUpnR   \n",
       "\n",
       "                                              track_href  \\\n",
       "0      https://api.spotify.com/v1/tracks/7zgqtptZvhf8...   \n",
       "1      https://api.spotify.com/v1/tracks/4Vxu50qVrQcy...   \n",
       "2      https://api.spotify.com/v1/tracks/6b8Be6ljOzmk...   \n",
       "3      https://api.spotify.com/v1/tracks/0afhq8XCExXp...   \n",
       "4      https://api.spotify.com/v1/tracks/1HNkqx9Ahdgi...   \n",
       "...                                                  ...   \n",
       "21228  https://api.spotify.com/v1/tracks/4TqEj3UMHMyq...   \n",
       "21229  https://api.spotify.com/v1/tracks/2U55GjnIRxmK...   \n",
       "21230  https://api.spotify.com/v1/tracks/25dSUnpUZ1qs...   \n",
       "21231  https://api.spotify.com/v1/tracks/5IY7Xa9nKElj...   \n",
       "21232  https://api.spotify.com/v1/tracks/4FR4Fcyd8JNd...   \n",
       "\n",
       "                                            analysis_url duration_ms  \\\n",
       "0      https://api.spotify.com/v1/audio-analysis/7zgq...      208198   \n",
       "1      https://api.spotify.com/v1/audio-analysis/4Vxu...      190227   \n",
       "2      https://api.spotify.com/v1/audio-analysis/6b8B...      225983   \n",
       "3      https://api.spotify.com/v1/audio-analysis/0afh...      170827   \n",
       "4      https://api.spotify.com/v1/audio-analysis/1HNk...      258987   \n",
       "...                                                  ...         ...   \n",
       "21228  https://api.spotify.com/v1/audio-analysis/4TqE...      219067   \n",
       "21229  https://api.spotify.com/v1/audio-analysis/2U55...      401187   \n",
       "21230  https://api.spotify.com/v1/audio-analysis/25dS...       87467   \n",
       "21231  https://api.spotify.com/v1/audio-analysis/5IY7...      307200   \n",
       "21232  https://api.spotify.com/v1/audio-analysis/4FR4...      301373   \n",
       "\n",
       "       time_signature  \n",
       "0                   4  \n",
       "1                   4  \n",
       "2                   4  \n",
       "3                   4  \n",
       "4                   4  \n",
       "...               ...  \n",
       "21228               4  \n",
       "21229               4  \n",
       "21230               5  \n",
       "21231               4  \n",
       "21232               4  \n",
       "\n",
       "[21233 rows x 21 columns]"
      ]
     },
     "execution_count": 48,
     "metadata": {},
     "output_type": "execute_result"
    }
   ],
   "source": [
    "songs"
   ]
  },
  {
   "cell_type": "code",
   "execution_count": 49,
   "metadata": {},
   "outputs": [],
   "source": [
    "songs = songs.drop(songs.columns[[3]], axis='columns')"
   ]
  },
  {
   "cell_type": "code",
   "execution_count": 50,
   "metadata": {},
   "outputs": [
    {
     "name": "stdout",
     "output_type": "stream",
     "text": [
      "<class 'pandas.core.frame.DataFrame'>\n",
      "Int64Index: 21233 entries, 0 to 21232\n",
      "Data columns (total 20 columns):\n",
      " #   Column            Non-Null Count  Dtype  \n",
      "---  ------            --------------  -----  \n",
      " 0   id                21233 non-null  object \n",
      " 1   title             21233 non-null  object \n",
      " 2   artist            21233 non-null  object \n",
      " 3   danceability      21233 non-null  float64\n",
      " 4   energy            21233 non-null  float64\n",
      " 5   key               21233 non-null  int64  \n",
      " 6   loudness          21233 non-null  float64\n",
      " 7   mode              21233 non-null  int64  \n",
      " 8   speechiness       21233 non-null  float64\n",
      " 9   acousticness      21233 non-null  float64\n",
      " 10  instrumentalness  21233 non-null  float64\n",
      " 11  liveness          21233 non-null  float64\n",
      " 12  valence           21233 non-null  float64\n",
      " 13  tempo             21233 non-null  float64\n",
      " 14  type              21233 non-null  object \n",
      " 15  uri               21233 non-null  object \n",
      " 16  track_href        21233 non-null  object \n",
      " 17  analysis_url      21233 non-null  object \n",
      " 18  duration_ms       21233 non-null  int64  \n",
      " 19  time_signature    21233 non-null  int64  \n",
      "dtypes: float64(9), int64(4), object(7)\n",
      "memory usage: 3.4+ MB\n"
     ]
    }
   ],
   "source": [
    "songs.info()"
   ]
  },
  {
   "cell_type": "markdown",
   "metadata": {},
   "source": [
    "### Stage 3: Clustering"
   ]
  },
  {
   "cell_type": "markdown",
   "metadata": {},
   "source": [
    "#### Importing needed libraries for this stage"
   ]
  },
  {
   "cell_type": "code",
   "execution_count": 51,
   "metadata": {},
   "outputs": [],
   "source": [
    "import warnings\n",
    "warnings.filterwarnings(\"ignore\")\n",
    "import matplotlib.pyplot as plt\n",
    "import numpy as np\n",
    "%matplotlib inline\n",
    "from sklearn.cluster import KMeans\n",
    "from sklearn.preprocessing import StandardScaler"
   ]
  },
  {
   "cell_type": "markdown",
   "metadata": {},
   "source": [
    "#### Exploring distributions for audio features"
   ]
  },
  {
   "cell_type": "code",
   "execution_count": 52,
   "metadata": {},
   "outputs": [],
   "source": [
    "X_df = songs.select_dtypes(include='float')"
   ]
  },
  {
   "cell_type": "code",
   "execution_count": 53,
   "metadata": {},
   "outputs": [
    {
     "data": {
      "text/html": [
       "<div>\n",
       "<style scoped>\n",
       "    .dataframe tbody tr th:only-of-type {\n",
       "        vertical-align: middle;\n",
       "    }\n",
       "\n",
       "    .dataframe tbody tr th {\n",
       "        vertical-align: top;\n",
       "    }\n",
       "\n",
       "    .dataframe thead th {\n",
       "        text-align: right;\n",
       "    }\n",
       "</style>\n",
       "<table border=\"1\" class=\"dataframe\">\n",
       "  <thead>\n",
       "    <tr style=\"text-align: right;\">\n",
       "      <th></th>\n",
       "      <th>danceability</th>\n",
       "      <th>energy</th>\n",
       "      <th>loudness</th>\n",
       "      <th>speechiness</th>\n",
       "      <th>acousticness</th>\n",
       "      <th>instrumentalness</th>\n",
       "      <th>liveness</th>\n",
       "      <th>valence</th>\n",
       "      <th>tempo</th>\n",
       "    </tr>\n",
       "  </thead>\n",
       "  <tbody>\n",
       "    <tr>\n",
       "      <th>0</th>\n",
       "      <td>0.615</td>\n",
       "      <td>0.779</td>\n",
       "      <td>-6.454</td>\n",
       "      <td>0.1350</td>\n",
       "      <td>0.06650</td>\n",
       "      <td>0.000000</td>\n",
       "      <td>0.1550</td>\n",
       "      <td>0.4530</td>\n",
       "      <td>160.000</td>\n",
       "    </tr>\n",
       "    <tr>\n",
       "      <th>1</th>\n",
       "      <td>0.687</td>\n",
       "      <td>0.845</td>\n",
       "      <td>-4.370</td>\n",
       "      <td>0.0576</td>\n",
       "      <td>0.10000</td>\n",
       "      <td>0.000000</td>\n",
       "      <td>0.0452</td>\n",
       "      <td>0.8090</td>\n",
       "      <td>87.972</td>\n",
       "    </tr>\n",
       "    <tr>\n",
       "      <th>2</th>\n",
       "      <td>0.818</td>\n",
       "      <td>0.803</td>\n",
       "      <td>-4.282</td>\n",
       "      <td>0.0797</td>\n",
       "      <td>0.03400</td>\n",
       "      <td>0.000000</td>\n",
       "      <td>0.1530</td>\n",
       "      <td>0.6320</td>\n",
       "      <td>106.970</td>\n",
       "    </tr>\n",
       "    <tr>\n",
       "      <th>3</th>\n",
       "      <td>0.624</td>\n",
       "      <td>0.876</td>\n",
       "      <td>-3.374</td>\n",
       "      <td>0.1000</td>\n",
       "      <td>0.07350</td>\n",
       "      <td>0.000000</td>\n",
       "      <td>0.3270</td>\n",
       "      <td>0.7810</td>\n",
       "      <td>99.943</td>\n",
       "    </tr>\n",
       "    <tr>\n",
       "      <th>4</th>\n",
       "      <td>0.614</td>\n",
       "      <td>0.379</td>\n",
       "      <td>-10.480</td>\n",
       "      <td>0.0476</td>\n",
       "      <td>0.60700</td>\n",
       "      <td>0.000464</td>\n",
       "      <td>0.0986</td>\n",
       "      <td>0.2010</td>\n",
       "      <td>107.989</td>\n",
       "    </tr>\n",
       "    <tr>\n",
       "      <th>...</th>\n",
       "      <td>...</td>\n",
       "      <td>...</td>\n",
       "      <td>...</td>\n",
       "      <td>...</td>\n",
       "      <td>...</td>\n",
       "      <td>...</td>\n",
       "      <td>...</td>\n",
       "      <td>...</td>\n",
       "      <td>...</td>\n",
       "    </tr>\n",
       "    <tr>\n",
       "      <th>21228</th>\n",
       "      <td>0.451</td>\n",
       "      <td>0.993</td>\n",
       "      <td>-6.208</td>\n",
       "      <td>0.2740</td>\n",
       "      <td>0.02320</td>\n",
       "      <td>0.004100</td>\n",
       "      <td>0.2230</td>\n",
       "      <td>0.0840</td>\n",
       "      <td>97.164</td>\n",
       "    </tr>\n",
       "    <tr>\n",
       "      <th>21229</th>\n",
       "      <td>0.331</td>\n",
       "      <td>0.849</td>\n",
       "      <td>-9.006</td>\n",
       "      <td>0.1090</td>\n",
       "      <td>0.07930</td>\n",
       "      <td>0.391000</td>\n",
       "      <td>0.2650</td>\n",
       "      <td>0.1550</td>\n",
       "      <td>137.405</td>\n",
       "    </tr>\n",
       "    <tr>\n",
       "      <th>21230</th>\n",
       "      <td>0.217</td>\n",
       "      <td>0.817</td>\n",
       "      <td>-9.564</td>\n",
       "      <td>0.0744</td>\n",
       "      <td>0.76800</td>\n",
       "      <td>0.911000</td>\n",
       "      <td>0.4870</td>\n",
       "      <td>0.0561</td>\n",
       "      <td>145.070</td>\n",
       "    </tr>\n",
       "    <tr>\n",
       "      <th>21231</th>\n",
       "      <td>0.365</td>\n",
       "      <td>0.945</td>\n",
       "      <td>-6.227</td>\n",
       "      <td>0.0992</td>\n",
       "      <td>0.03420</td>\n",
       "      <td>0.021500</td>\n",
       "      <td>0.4230</td>\n",
       "      <td>0.1720</td>\n",
       "      <td>137.660</td>\n",
       "    </tr>\n",
       "    <tr>\n",
       "      <th>21232</th>\n",
       "      <td>0.555</td>\n",
       "      <td>0.902</td>\n",
       "      <td>-4.870</td>\n",
       "      <td>0.0348</td>\n",
       "      <td>0.00368</td>\n",
       "      <td>0.000000</td>\n",
       "      <td>0.3270</td>\n",
       "      <td>0.3730</td>\n",
       "      <td>84.001</td>\n",
       "    </tr>\n",
       "  </tbody>\n",
       "</table>\n",
       "<p>21233 rows × 9 columns</p>\n",
       "</div>"
      ],
      "text/plain": [
       "       danceability  energy  loudness  speechiness  acousticness  \\\n",
       "0             0.615   0.779    -6.454       0.1350       0.06650   \n",
       "1             0.687   0.845    -4.370       0.0576       0.10000   \n",
       "2             0.818   0.803    -4.282       0.0797       0.03400   \n",
       "3             0.624   0.876    -3.374       0.1000       0.07350   \n",
       "4             0.614   0.379   -10.480       0.0476       0.60700   \n",
       "...             ...     ...       ...          ...           ...   \n",
       "21228         0.451   0.993    -6.208       0.2740       0.02320   \n",
       "21229         0.331   0.849    -9.006       0.1090       0.07930   \n",
       "21230         0.217   0.817    -9.564       0.0744       0.76800   \n",
       "21231         0.365   0.945    -6.227       0.0992       0.03420   \n",
       "21232         0.555   0.902    -4.870       0.0348       0.00368   \n",
       "\n",
       "       instrumentalness  liveness  valence    tempo  \n",
       "0              0.000000    0.1550   0.4530  160.000  \n",
       "1              0.000000    0.0452   0.8090   87.972  \n",
       "2              0.000000    0.1530   0.6320  106.970  \n",
       "3              0.000000    0.3270   0.7810   99.943  \n",
       "4              0.000464    0.0986   0.2010  107.989  \n",
       "...                 ...       ...      ...      ...  \n",
       "21228          0.004100    0.2230   0.0840   97.164  \n",
       "21229          0.391000    0.2650   0.1550  137.405  \n",
       "21230          0.911000    0.4870   0.0561  145.070  \n",
       "21231          0.021500    0.4230   0.1720  137.660  \n",
       "21232          0.000000    0.3270   0.3730   84.001  \n",
       "\n",
       "[21233 rows x 9 columns]"
      ]
     },
     "execution_count": 53,
     "metadata": {},
     "output_type": "execute_result"
    }
   ],
   "source": [
    "X_df"
   ]
  },
  {
   "cell_type": "code",
   "execution_count": 54,
   "metadata": {},
   "outputs": [
    {
     "data": {
      "image/png": "[encoded data removed]",
      "text/plain": [
       "<Figure size 1080x1080 with 9 Axes>"
      ]
     },
     "metadata": {
      "needs_background": "light"
     },
     "output_type": "display_data"
    }
   ],
   "source": [
    "X_df.hist(figsize=(15,15));"
   ]
  },
  {
   "cell_type": "markdown",
   "metadata": {},
   "source": [
    "#### Scaling audio features"
   ]
  },
  {
   "cell_type": "code",
   "execution_count": 55,
   "metadata": {},
   "outputs": [],
   "source": [
    "scaler = StandardScaler()"
   ]
  },
  {
   "cell_type": "code",
   "execution_count": 56,
   "metadata": {},
   "outputs": [
    {
     "data": {
      "text/plain": [
       "StandardScaler()"
      ]
     },
     "execution_count": 56,
     "metadata": {},
     "output_type": "execute_result"
    }
   ],
   "source": [
    "scaler.fit(X_df)"
   ]
  },
  {
   "cell_type": "code",
   "execution_count": 57,
   "metadata": {},
   "outputs": [],
   "source": [
    "X_scaled = scaler.transform(X_df)"
   ]
  },
  {
   "cell_type": "code",
   "execution_count": 58,
   "metadata": {},
   "outputs": [],
   "source": [
    "X_scaled_df = pd.DataFrame(X_scaled, columns=X_df.columns)"
   ]
  },
  {
   "cell_type": "code",
   "execution_count": 59,
   "metadata": {},
   "outputs": [
    {
     "data": {
      "image/png": "[encoded data removed]",
      "text/plain": [
       "<Figure size 1080x1080 with 9 Axes>"
      ]
     },
     "metadata": {
      "needs_background": "light"
     },
     "output_type": "display_data"
    }
   ],
   "source": [
    "X_scaled_df.hist(figsize=(15,15));"
   ]
  },
  {
   "cell_type": "markdown",
   "metadata": {},
   "source": [
    "#### Creating the clusters"
   ]
  },
  {
   "cell_type": "code",
   "execution_count": 60,
   "metadata": {},
   "outputs": [
    {
     "data": {
      "text/plain": [
       "KMeans(random_state=40)"
      ]
     },
     "execution_count": 60,
     "metadata": {},
     "output_type": "execute_result"
    }
   ],
   "source": [
    "#define the model, fit the model to your data\n",
    "\n",
    "kmeans = KMeans(n_clusters=8, random_state=40)\n",
    "kmeans.fit(X_scaled)"
   ]
  },
  {
   "cell_type": "code",
   "execution_count": 61,
   "metadata": {},
   "outputs": [
    {
     "data": {
      "text/html": [
       "<div>\n",
       "<style scoped>\n",
       "    .dataframe tbody tr th:only-of-type {\n",
       "        vertical-align: middle;\n",
       "    }\n",
       "\n",
       "    .dataframe tbody tr th {\n",
       "        vertical-align: top;\n",
       "    }\n",
       "\n",
       "    .dataframe thead th {\n",
       "        text-align: right;\n",
       "    }\n",
       "</style>\n",
       "<table border=\"1\" class=\"dataframe\">\n",
       "  <thead>\n",
       "    <tr style=\"text-align: right;\">\n",
       "      <th></th>\n",
       "      <th>danceability</th>\n",
       "      <th>energy</th>\n",
       "      <th>loudness</th>\n",
       "      <th>speechiness</th>\n",
       "      <th>acousticness</th>\n",
       "      <th>instrumentalness</th>\n",
       "      <th>liveness</th>\n",
       "      <th>valence</th>\n",
       "      <th>tempo</th>\n",
       "      <th>cluster</th>\n",
       "    </tr>\n",
       "  </thead>\n",
       "  <tbody>\n",
       "    <tr>\n",
       "      <th>0</th>\n",
       "      <td>0.615</td>\n",
       "      <td>0.779</td>\n",
       "      <td>-6.454</td>\n",
       "      <td>0.1350</td>\n",
       "      <td>0.0665</td>\n",
       "      <td>0.000000</td>\n",
       "      <td>0.1550</td>\n",
       "      <td>0.453</td>\n",
       "      <td>160.000</td>\n",
       "      <td>4</td>\n",
       "    </tr>\n",
       "    <tr>\n",
       "      <th>1</th>\n",
       "      <td>0.687</td>\n",
       "      <td>0.845</td>\n",
       "      <td>-4.370</td>\n",
       "      <td>0.0576</td>\n",
       "      <td>0.1000</td>\n",
       "      <td>0.000000</td>\n",
       "      <td>0.0452</td>\n",
       "      <td>0.809</td>\n",
       "      <td>87.972</td>\n",
       "      <td>6</td>\n",
       "    </tr>\n",
       "    <tr>\n",
       "      <th>2</th>\n",
       "      <td>0.818</td>\n",
       "      <td>0.803</td>\n",
       "      <td>-4.282</td>\n",
       "      <td>0.0797</td>\n",
       "      <td>0.0340</td>\n",
       "      <td>0.000000</td>\n",
       "      <td>0.1530</td>\n",
       "      <td>0.632</td>\n",
       "      <td>106.970</td>\n",
       "      <td>6</td>\n",
       "    </tr>\n",
       "    <tr>\n",
       "      <th>3</th>\n",
       "      <td>0.624</td>\n",
       "      <td>0.876</td>\n",
       "      <td>-3.374</td>\n",
       "      <td>0.1000</td>\n",
       "      <td>0.0735</td>\n",
       "      <td>0.000000</td>\n",
       "      <td>0.3270</td>\n",
       "      <td>0.781</td>\n",
       "      <td>99.943</td>\n",
       "      <td>6</td>\n",
       "    </tr>\n",
       "    <tr>\n",
       "      <th>4</th>\n",
       "      <td>0.614</td>\n",
       "      <td>0.379</td>\n",
       "      <td>-10.480</td>\n",
       "      <td>0.0476</td>\n",
       "      <td>0.6070</td>\n",
       "      <td>0.000464</td>\n",
       "      <td>0.0986</td>\n",
       "      <td>0.201</td>\n",
       "      <td>107.989</td>\n",
       "      <td>2</td>\n",
       "    </tr>\n",
       "    <tr>\n",
       "      <th>5</th>\n",
       "      <td>0.768</td>\n",
       "      <td>0.517</td>\n",
       "      <td>-4.323</td>\n",
       "      <td>0.0312</td>\n",
       "      <td>0.1860</td>\n",
       "      <td>0.000038</td>\n",
       "      <td>0.1040</td>\n",
       "      <td>0.418</td>\n",
       "      <td>104.992</td>\n",
       "      <td>6</td>\n",
       "    </tr>\n",
       "    <tr>\n",
       "      <th>6</th>\n",
       "      <td>0.612</td>\n",
       "      <td>0.280</td>\n",
       "      <td>-8.648</td>\n",
       "      <td>0.0434</td>\n",
       "      <td>0.9320</td>\n",
       "      <td>0.000000</td>\n",
       "      <td>0.0880</td>\n",
       "      <td>0.387</td>\n",
       "      <td>72.795</td>\n",
       "      <td>2</td>\n",
       "    </tr>\n",
       "    <tr>\n",
       "      <th>7</th>\n",
       "      <td>0.415</td>\n",
       "      <td>0.538</td>\n",
       "      <td>-12.710</td>\n",
       "      <td>0.0368</td>\n",
       "      <td>0.4000</td>\n",
       "      <td>0.767000</td>\n",
       "      <td>0.0674</td>\n",
       "      <td>0.449</td>\n",
       "      <td>95.121</td>\n",
       "      <td>7</td>\n",
       "    </tr>\n",
       "    <tr>\n",
       "      <th>8</th>\n",
       "      <td>0.776</td>\n",
       "      <td>0.620</td>\n",
       "      <td>-6.198</td>\n",
       "      <td>0.0670</td>\n",
       "      <td>0.3410</td>\n",
       "      <td>0.000000</td>\n",
       "      <td>0.0978</td>\n",
       "      <td>0.427</td>\n",
       "      <td>100.025</td>\n",
       "      <td>6</td>\n",
       "    </tr>\n",
       "    <tr>\n",
       "      <th>9</th>\n",
       "      <td>0.781</td>\n",
       "      <td>0.445</td>\n",
       "      <td>-6.061</td>\n",
       "      <td>0.0295</td>\n",
       "      <td>0.4740</td>\n",
       "      <td>0.000000</td>\n",
       "      <td>0.1840</td>\n",
       "      <td>0.591</td>\n",
       "      <td>78.998</td>\n",
       "      <td>6</td>\n",
       "    </tr>\n",
       "  </tbody>\n",
       "</table>\n",
       "</div>"
      ],
      "text/plain": [
       "   danceability  energy  loudness  speechiness  acousticness  \\\n",
       "0         0.615   0.779    -6.454       0.1350        0.0665   \n",
       "1         0.687   0.845    -4.370       0.0576        0.1000   \n",
       "2         0.818   0.803    -4.282       0.0797        0.0340   \n",
       "3         0.624   0.876    -3.374       0.1000        0.0735   \n",
       "4         0.614   0.379   -10.480       0.0476        0.6070   \n",
       "5         0.768   0.517    -4.323       0.0312        0.1860   \n",
       "6         0.612   0.280    -8.648       0.0434        0.9320   \n",
       "7         0.415   0.538   -12.710       0.0368        0.4000   \n",
       "8         0.776   0.620    -6.198       0.0670        0.3410   \n",
       "9         0.781   0.445    -6.061       0.0295        0.4740   \n",
       "\n",
       "   instrumentalness  liveness  valence    tempo  cluster  \n",
       "0          0.000000    0.1550    0.453  160.000        4  \n",
       "1          0.000000    0.0452    0.809   87.972        6  \n",
       "2          0.000000    0.1530    0.632  106.970        6  \n",
       "3          0.000000    0.3270    0.781   99.943        6  \n",
       "4          0.000464    0.0986    0.201  107.989        2  \n",
       "5          0.000038    0.1040    0.418  104.992        6  \n",
       "6          0.000000    0.0880    0.387   72.795        2  \n",
       "7          0.767000    0.0674    0.449   95.121        7  \n",
       "8          0.000000    0.0978    0.427  100.025        6  \n",
       "9          0.000000    0.1840    0.591   78.998        6  "
      ]
     },
     "execution_count": 61,
     "metadata": {},
     "output_type": "execute_result"
    }
   ],
   "source": [
    "#look at the cluster centres\n",
    "\n",
    "kmeans.cluster_centers_\n",
    "\n",
    "# Predicting / assigning the clusters:\n",
    "\n",
    "clusters=kmeans.predict(X_scaled)\n",
    "\n",
    "# Check the size of the clusters\n",
    "\n",
    "pd.Series(clusters).value_counts().sort_index()\n",
    "\n",
    "# Explore the cluster assignment by placing it in the original dataset\n",
    "\n",
    "X_cluster=pd.DataFrame(X_df)\n",
    "X_cluster[\"cluster\"]=clusters\n",
    "X_cluster.head(10)"
   ]
  },
  {
   "cell_type": "code",
   "execution_count": 62,
   "metadata": {},
   "outputs": [
    {
     "data": {
      "text/plain": [
       "83830.8436009739"
      ]
     },
     "execution_count": 62,
     "metadata": {},
     "output_type": "execute_result"
    }
   ],
   "source": [
    "kmeans.inertia_"
   ]
  },
  {
   "cell_type": "code",
   "execution_count": 63,
   "metadata": {},
   "outputs": [],
   "source": [
    "K = range(2,30)"
   ]
  },
  {
   "cell_type": "code",
   "execution_count": 64,
   "metadata": {},
   "outputs": [],
   "source": [
    "inertia = []\n",
    "\n",
    "for k in K:\n",
    "    kmeans=KMeans(n_clusters=k, random_state=40)\n",
    "    kmeans.fit(X_scaled)\n",
    "    inertia.append(kmeans.inertia_)"
   ]
  },
  {
   "cell_type": "code",
   "execution_count": 65,
   "metadata": {},
   "outputs": [
    {
     "data": {
      "text/plain": [
       "Text(0.5, 1.0, 'Elbow Method showing the optimal k')"
      ]
     },
     "execution_count": 65,
     "metadata": {},
     "output_type": "execute_result"
    },
    {
     "data": {
      "image/png": "[encoded data removed]",
      "text/plain": [
       "<Figure size 1152x576 with 1 Axes>"
      ]
     },
     "metadata": {
      "needs_background": "light"
     },
     "output_type": "display_data"
    }
   ],
   "source": [
    "plt.figure(figsize=(16,8))\n",
    "plt.plot(K, inertia, 'bx-')\n",
    "plt.xlabel('k')\n",
    "plt.ylabel('inertia')\n",
    "plt.xticks(np.arange(min(K), max(K)+1, 1.0))\n",
    "plt.title('Elbow Method showing the optimal k')"
   ]
  },
  {
   "cell_type": "raw",
   "metadata": {},
   "source": [
    "#After observing three elbows, numbers: 3,8 and 11, we've decided to define 11 clusters, since silouhette was pretty \n",
    "#high and inertia looked reasonable.\n",
    "\n",
    "#11 clusters also seemed appropritate to gather reasonable music styles amoung our variety."
   ]
  },
  {
   "cell_type": "code",
   "execution_count": 67,
   "metadata": {},
   "outputs": [],
   "source": [
    "from sklearn.metrics import silhouette_score\n",
    "\n",
    "K = range(10, 30)\n",
    "\n",
    "silhouettes = []\n",
    "\n",
    "for k in K: \n",
    "    kmeans=KMeans(n_clusters=k, random_state=40)\n",
    "    kmeans.fit(X_scaled)\n",
    "    silhouettes.append(silhouette_score(X_scaled, kmeans.predict(X_scaled)))"
   ]
  },
  {
   "cell_type": "code",
   "execution_count": 68,
   "metadata": {},
   "outputs": [
    {
     "data": {
      "text/plain": [
       "Text(0, 0.5, 'silhouette score')"
      ]
     },
     "execution_count": 68,
     "metadata": {},
     "output_type": "execute_result"
    },
    {
     "data": {
      "image/png": "[encoded data removed]",
      "text/plain": [
       "<Figure size 1152x576 with 1 Axes>"
      ]
     },
     "metadata": {
      "needs_background": "light"
     },
     "output_type": "display_data"
    }
   ],
   "source": [
    "plt.figure(figsize=(16,8))\n",
    "plt.plot(K, silhouettes, 'bo-')\n",
    "plt.xlabel('k (number of clusters)')\n",
    "plt.xticks(np.arange(min(K), max(K)+1, 1.0))\n",
    "plt.ylabel('silhouette score')"
   ]
  },
  {
   "cell_type": "code",
   "execution_count": 69,
   "metadata": {},
   "outputs": [
    {
     "data": {
      "text/plain": [
       "KMeans(n_clusters=11, random_state=40)"
      ]
     },
     "execution_count": 69,
     "metadata": {},
     "output_type": "execute_result"
    }
   ],
   "source": [
    "kmeans = KMeans(n_clusters=11, random_state=40)\n",
    "kmeans.fit(X_scaled)"
   ]
  },
  {
   "cell_type": "code",
   "execution_count": 70,
   "metadata": {},
   "outputs": [
    {
     "data": {
      "text/html": [
       "<div>\n",
       "<style scoped>\n",
       "    .dataframe tbody tr th:only-of-type {\n",
       "        vertical-align: middle;\n",
       "    }\n",
       "\n",
       "    .dataframe tbody tr th {\n",
       "        vertical-align: top;\n",
       "    }\n",
       "\n",
       "    .dataframe thead th {\n",
       "        text-align: right;\n",
       "    }\n",
       "</style>\n",
       "<table border=\"1\" class=\"dataframe\">\n",
       "  <thead>\n",
       "    <tr style=\"text-align: right;\">\n",
       "      <th></th>\n",
       "      <th>danceability</th>\n",
       "      <th>energy</th>\n",
       "      <th>loudness</th>\n",
       "      <th>speechiness</th>\n",
       "      <th>acousticness</th>\n",
       "      <th>instrumentalness</th>\n",
       "      <th>liveness</th>\n",
       "      <th>valence</th>\n",
       "      <th>tempo</th>\n",
       "      <th>cluster</th>\n",
       "    </tr>\n",
       "  </thead>\n",
       "  <tbody>\n",
       "    <tr>\n",
       "      <th>0</th>\n",
       "      <td>0.615</td>\n",
       "      <td>0.779</td>\n",
       "      <td>-6.454</td>\n",
       "      <td>0.1350</td>\n",
       "      <td>0.0665</td>\n",
       "      <td>0.000000</td>\n",
       "      <td>0.1550</td>\n",
       "      <td>0.453</td>\n",
       "      <td>160.000</td>\n",
       "      <td>2</td>\n",
       "    </tr>\n",
       "    <tr>\n",
       "      <th>1</th>\n",
       "      <td>0.687</td>\n",
       "      <td>0.845</td>\n",
       "      <td>-4.370</td>\n",
       "      <td>0.0576</td>\n",
       "      <td>0.1000</td>\n",
       "      <td>0.000000</td>\n",
       "      <td>0.0452</td>\n",
       "      <td>0.809</td>\n",
       "      <td>87.972</td>\n",
       "      <td>10</td>\n",
       "    </tr>\n",
       "    <tr>\n",
       "      <th>2</th>\n",
       "      <td>0.818</td>\n",
       "      <td>0.803</td>\n",
       "      <td>-4.282</td>\n",
       "      <td>0.0797</td>\n",
       "      <td>0.0340</td>\n",
       "      <td>0.000000</td>\n",
       "      <td>0.1530</td>\n",
       "      <td>0.632</td>\n",
       "      <td>106.970</td>\n",
       "      <td>10</td>\n",
       "    </tr>\n",
       "    <tr>\n",
       "      <th>3</th>\n",
       "      <td>0.624</td>\n",
       "      <td>0.876</td>\n",
       "      <td>-3.374</td>\n",
       "      <td>0.1000</td>\n",
       "      <td>0.0735</td>\n",
       "      <td>0.000000</td>\n",
       "      <td>0.3270</td>\n",
       "      <td>0.781</td>\n",
       "      <td>99.943</td>\n",
       "      <td>10</td>\n",
       "    </tr>\n",
       "    <tr>\n",
       "      <th>4</th>\n",
       "      <td>0.614</td>\n",
       "      <td>0.379</td>\n",
       "      <td>-10.480</td>\n",
       "      <td>0.0476</td>\n",
       "      <td>0.6070</td>\n",
       "      <td>0.000464</td>\n",
       "      <td>0.0986</td>\n",
       "      <td>0.201</td>\n",
       "      <td>107.989</td>\n",
       "      <td>4</td>\n",
       "    </tr>\n",
       "    <tr>\n",
       "      <th>5</th>\n",
       "      <td>0.768</td>\n",
       "      <td>0.517</td>\n",
       "      <td>-4.323</td>\n",
       "      <td>0.0312</td>\n",
       "      <td>0.1860</td>\n",
       "      <td>0.000038</td>\n",
       "      <td>0.1040</td>\n",
       "      <td>0.418</td>\n",
       "      <td>104.992</td>\n",
       "      <td>0</td>\n",
       "    </tr>\n",
       "    <tr>\n",
       "      <th>6</th>\n",
       "      <td>0.612</td>\n",
       "      <td>0.280</td>\n",
       "      <td>-8.648</td>\n",
       "      <td>0.0434</td>\n",
       "      <td>0.9320</td>\n",
       "      <td>0.000000</td>\n",
       "      <td>0.0880</td>\n",
       "      <td>0.387</td>\n",
       "      <td>72.795</td>\n",
       "      <td>4</td>\n",
       "    </tr>\n",
       "    <tr>\n",
       "      <th>7</th>\n",
       "      <td>0.415</td>\n",
       "      <td>0.538</td>\n",
       "      <td>-12.710</td>\n",
       "      <td>0.0368</td>\n",
       "      <td>0.4000</td>\n",
       "      <td>0.767000</td>\n",
       "      <td>0.0674</td>\n",
       "      <td>0.449</td>\n",
       "      <td>95.121</td>\n",
       "      <td>7</td>\n",
       "    </tr>\n",
       "    <tr>\n",
       "      <th>8</th>\n",
       "      <td>0.776</td>\n",
       "      <td>0.620</td>\n",
       "      <td>-6.198</td>\n",
       "      <td>0.0670</td>\n",
       "      <td>0.3410</td>\n",
       "      <td>0.000000</td>\n",
       "      <td>0.0978</td>\n",
       "      <td>0.427</td>\n",
       "      <td>100.025</td>\n",
       "      <td>0</td>\n",
       "    </tr>\n",
       "    <tr>\n",
       "      <th>9</th>\n",
       "      <td>0.781</td>\n",
       "      <td>0.445</td>\n",
       "      <td>-6.061</td>\n",
       "      <td>0.0295</td>\n",
       "      <td>0.4740</td>\n",
       "      <td>0.000000</td>\n",
       "      <td>0.1840</td>\n",
       "      <td>0.591</td>\n",
       "      <td>78.998</td>\n",
       "      <td>3</td>\n",
       "    </tr>\n",
       "  </tbody>\n",
       "</table>\n",
       "</div>"
      ],
      "text/plain": [
       "   danceability  energy  loudness  speechiness  acousticness  \\\n",
       "0         0.615   0.779    -6.454       0.1350        0.0665   \n",
       "1         0.687   0.845    -4.370       0.0576        0.1000   \n",
       "2         0.818   0.803    -4.282       0.0797        0.0340   \n",
       "3         0.624   0.876    -3.374       0.1000        0.0735   \n",
       "4         0.614   0.379   -10.480       0.0476        0.6070   \n",
       "5         0.768   0.517    -4.323       0.0312        0.1860   \n",
       "6         0.612   0.280    -8.648       0.0434        0.9320   \n",
       "7         0.415   0.538   -12.710       0.0368        0.4000   \n",
       "8         0.776   0.620    -6.198       0.0670        0.3410   \n",
       "9         0.781   0.445    -6.061       0.0295        0.4740   \n",
       "\n",
       "   instrumentalness  liveness  valence    tempo  cluster  \n",
       "0          0.000000    0.1550    0.453  160.000        2  \n",
       "1          0.000000    0.0452    0.809   87.972       10  \n",
       "2          0.000000    0.1530    0.632  106.970       10  \n",
       "3          0.000000    0.3270    0.781   99.943       10  \n",
       "4          0.000464    0.0986    0.201  107.989        4  \n",
       "5          0.000038    0.1040    0.418  104.992        0  \n",
       "6          0.000000    0.0880    0.387   72.795        4  \n",
       "7          0.767000    0.0674    0.449   95.121        7  \n",
       "8          0.000000    0.0978    0.427  100.025        0  \n",
       "9          0.000000    0.1840    0.591   78.998        3  "
      ]
     },
     "execution_count": 70,
     "metadata": {},
     "output_type": "execute_result"
    }
   ],
   "source": [
    "kmeans.cluster_centers_\n",
    "clusters=kmeans.predict(X_scaled)\n",
    "pd.Series(clusters).value_counts().sort_index()\n",
    "X_cluster=pd.DataFrame(X_df)\n",
    "X_cluster[\"cluster\"]=clusters\n",
    "X_cluster.head(10)"
   ]
  },
  {
   "cell_type": "code",
   "execution_count": 71,
   "metadata": {},
   "outputs": [
    {
     "data": {
      "text/plain": [
       "74407.80134324126"
      ]
     },
     "execution_count": 71,
     "metadata": {},
     "output_type": "execute_result"
    }
   ],
   "source": [
    "kmeans.inertia_"
   ]
  },
  {
   "cell_type": "markdown",
   "metadata": {},
   "source": [
    "### Stage 4: Final prototype "
   ]
  },
  {
   "cell_type": "code",
   "execution_count": 72,
   "metadata": {},
   "outputs": [],
   "source": [
    "songs_recommend = pd.DataFrame({'id' : songs['id'], 'title' : songs['title'], 'artist' : songs['artist'], 'cluster' : X_cluster['cluster']})"
   ]
  },
  {
   "cell_type": "code",
   "execution_count": 73,
   "metadata": {},
   "outputs": [
    {
     "data": {
      "text/html": [
       "<div>\n",
       "<style scoped>\n",
       "    .dataframe tbody tr th:only-of-type {\n",
       "        vertical-align: middle;\n",
       "    }\n",
       "\n",
       "    .dataframe tbody tr th {\n",
       "        vertical-align: top;\n",
       "    }\n",
       "\n",
       "    .dataframe thead th {\n",
       "        text-align: right;\n",
       "    }\n",
       "</style>\n",
       "<table border=\"1\" class=\"dataframe\">\n",
       "  <thead>\n",
       "    <tr style=\"text-align: right;\">\n",
       "      <th></th>\n",
       "      <th>id</th>\n",
       "      <th>title</th>\n",
       "      <th>artist</th>\n",
       "      <th>cluster</th>\n",
       "    </tr>\n",
       "  </thead>\n",
       "  <tbody>\n",
       "    <tr>\n",
       "      <th>0</th>\n",
       "      <td>7zgqtptZvhf8GEmdsM2vp2</td>\n",
       "      <td>...Ready For It?</td>\n",
       "      <td>Taylor Swift</td>\n",
       "      <td>2</td>\n",
       "    </tr>\n",
       "    <tr>\n",
       "      <th>1</th>\n",
       "      <td>4Vxu50qVrQcycjRyJQaZLC</td>\n",
       "      <td>Life Changes</td>\n",
       "      <td>Thomas Rhett</td>\n",
       "      <td>10</td>\n",
       "    </tr>\n",
       "    <tr>\n",
       "      <th>2</th>\n",
       "      <td>6b8Be6ljOzmkOmFslEb23P</td>\n",
       "      <td>24K Magic</td>\n",
       "      <td>Bruno Mars</td>\n",
       "      <td>10</td>\n",
       "    </tr>\n",
       "    <tr>\n",
       "      <th>3</th>\n",
       "      <td>0afhq8XCExXpqazXczTSve</td>\n",
       "      <td>Galway Girl</td>\n",
       "      <td>Ed Sheeran</td>\n",
       "      <td>10</td>\n",
       "    </tr>\n",
       "    <tr>\n",
       "      <th>4</th>\n",
       "      <td>1HNkqx9Ahdgi1Ixy2xkKkL</td>\n",
       "      <td>Photograph</td>\n",
       "      <td>Ed Sheeran</td>\n",
       "      <td>4</td>\n",
       "    </tr>\n",
       "    <tr>\n",
       "      <th>...</th>\n",
       "      <td>...</td>\n",
       "      <td>...</td>\n",
       "      <td>...</td>\n",
       "      <td>...</td>\n",
       "    </tr>\n",
       "    <tr>\n",
       "      <th>21228</th>\n",
       "      <td>4TqEj3UMHMyqQuxdJbhgyr</td>\n",
       "      <td>Angry Inch</td>\n",
       "      <td>Type O Negative</td>\n",
       "      <td>6</td>\n",
       "    </tr>\n",
       "    <tr>\n",
       "      <th>21229</th>\n",
       "      <td>2U55GjnIRxmKSAxl92JpDR</td>\n",
       "      <td>Anesthesia</td>\n",
       "      <td>Type O Negative</td>\n",
       "      <td>8</td>\n",
       "    </tr>\n",
       "    <tr>\n",
       "      <th>21230</th>\n",
       "      <td>25dSUnpUZ1qsWVyYjCQg6d</td>\n",
       "      <td>Drunk in Paris</td>\n",
       "      <td>Type O Negative</td>\n",
       "      <td>8</td>\n",
       "    </tr>\n",
       "    <tr>\n",
       "      <th>21231</th>\n",
       "      <td>5IY7Xa9nKEljsEOehXf7AO</td>\n",
       "      <td>The Dream Is Dead</td>\n",
       "      <td>Type O Negative</td>\n",
       "      <td>6</td>\n",
       "    </tr>\n",
       "    <tr>\n",
       "      <th>21232</th>\n",
       "      <td>4FR4Fcyd8JNdhsHKSTUpnR</td>\n",
       "      <td>Neverland</td>\n",
       "      <td>Van Canto</td>\n",
       "      <td>6</td>\n",
       "    </tr>\n",
       "  </tbody>\n",
       "</table>\n",
       "<p>21233 rows × 4 columns</p>\n",
       "</div>"
      ],
      "text/plain": [
       "                           id              title           artist  cluster\n",
       "0      7zgqtptZvhf8GEmdsM2vp2   ...Ready For It?     Taylor Swift        2\n",
       "1      4Vxu50qVrQcycjRyJQaZLC       Life Changes     Thomas Rhett       10\n",
       "2      6b8Be6ljOzmkOmFslEb23P          24K Magic       Bruno Mars       10\n",
       "3      0afhq8XCExXpqazXczTSve        Galway Girl       Ed Sheeran       10\n",
       "4      1HNkqx9Ahdgi1Ixy2xkKkL         Photograph       Ed Sheeran        4\n",
       "...                       ...                ...              ...      ...\n",
       "21228  4TqEj3UMHMyqQuxdJbhgyr         Angry Inch  Type O Negative        6\n",
       "21229  2U55GjnIRxmKSAxl92JpDR         Anesthesia  Type O Negative        8\n",
       "21230  25dSUnpUZ1qsWVyYjCQg6d     Drunk in Paris  Type O Negative        8\n",
       "21231  5IY7Xa9nKEljsEOehXf7AO  The Dream Is Dead  Type O Negative        6\n",
       "21232  4FR4Fcyd8JNdhsHKSTUpnR          Neverland        Van Canto        6\n",
       "\n",
       "[21233 rows x 4 columns]"
      ]
     },
     "execution_count": 73,
     "metadata": {},
     "output_type": "execute_result"
    }
   ],
   "source": [
    "songs_recommend"
   ]
  },
  {
   "cell_type": "code",
   "execution_count": 74,
   "metadata": {},
   "outputs": [],
   "source": [
    "hot_songs = pd.read_csv('songs_hot100.csv')"
   ]
  },
  {
   "cell_type": "markdown",
   "metadata": {},
   "source": [
    "#### Final prototype"
   ]
  },
  {
   "cell_type": "code",
   "execution_count": 101,
   "metadata": {},
   "outputs": [],
   "source": [
    "def hot_recommender():\n",
    "    user_song = input(\"Tell us a song you like: \").title()\n",
    "    if songs_hot100['song'].str.contains(user_song).any():\n",
    "        print(\"Nice song! Do you know \" + songs_hot100.sample(n=1)[\"song\"].item() + \" by \" + hot_songs.sample(n=1)[\"artist\"].item() + \"? I'm sure you will like it!\")\n",
    "    \n",
    "    else:\n",
    "        results = sp.search(q=user_song, limit=1)\n",
    "        user_id = results['tracks']['items'][0]['id']\n",
    "        user_audio = sp.audio_features(tracks=user_id)\n",
    "        patata = pd.DataFrame(user_audio[0], index=[0])[X_df.drop(['cluster'], axis=1).columns]\n",
    "        user_scaled = scaler.transform(patata)\n",
    "        user_cluster = kmeans.predict(user_scaled)\n",
    "        recommendation = songs_recommend[songs_recommend['cluster']==user_cluster[0]].sample(n=1)[\"title\"].item()\n",
    "        artist = songs_recommend[songs_recommend['title']==recommendation]['artist']\n",
    "        print(\"Nice song! Do you know \" + recommendation.upper() +  \" by \" + artist + \"? I'm sure you will like it!\")"
   ]
  },
  {
   "cell_type": "code",
   "execution_count": 105,
   "metadata": {},
   "outputs": [
    {
     "name": "stdout",
     "output_type": "stream",
     "text": [
      "Tell us a song you like: don't stop me now\n",
      "16116    Nice song! Do you know PEACE SELLS - LIVE AT T...\n",
      "Name: artist, dtype: object\n"
     ]
    }
   ],
   "source": [
    "hot_recommender()"
   ]
  },
  {
   "cell_type": "code",
   "execution_count": null,
   "metadata": {},
   "outputs": [],
   "source": []
  },
  {
   "cell_type": "code",
   "execution_count": 107,
   "metadata": {},
   "outputs": [
    {
     "data": {
      "application/javascript": [
       "$.getScript('https://kmahelona.github.io/ipython_notebook_goodies/ipython_notebook_toc.js')\n"
      ],
      "text/plain": [
       "<IPython.core.display.Javascript object>"
      ]
     },
     "metadata": {},
     "output_type": "display_data"
    }
   ],
   "source": [
    "%%javascript\n",
    "$.getScript('https://kmahelona.github.io/ipython_notebook_goodies/ipython_notebook_toc.js')"
   ]
  },
  {
   "cell_type": "code",
   "execution_count": null,
   "metadata": {},
   "outputs": [],
   "source": []
  }
 ],
 "metadata": {
  "kernelspec": {
   "display_name": "Python 3",
   "language": "python",
   "name": "python3"
  },
  "language_info": {
   "codemirror_mode": {
    "name": "ipython",
    "version": 3
   },
   "file_extension": ".py",
   "mimetype": "text/x-python",
   "name": "python",
   "nbconvert_exporter": "python",
   "pygments_lexer": "ipython3",
   "version": "3.8.10"
  },
  "toc": {
   "base_numbering": 1,
   "nav_menu": {},
   "number_sections": true,
   "sideBar": true,
   "skip_h1_title": false,
   "title_cell": "Table of Contents",
   "title_sidebar": "Contents",
   "toc_cell": false,
   "toc_position": {},
   "toc_section_display": true,
   "toc_window_display": false
  },
  "varInspector": {
   "cols": {
    "lenName": 16,
    "lenType": 16,
    "lenVar": 40
   },
   "kernels_config": {
    "python": {
     "delete_cmd_postfix": "",
     "delete_cmd_prefix": "del ",
     "library": "var_list.py",
     "varRefreshCmd": "print(var_dic_list())"
    },
    "r": {
     "delete_cmd_postfix": ") ",
     "delete_cmd_prefix": "rm(",
     "library": "var_list.r",
     "varRefreshCmd": "cat(var_dic_list()) "
    }
   },
   "types_to_exclude": [
    "module",
    "function",
    "builtin_function_or_method",
    "instance",
    "_Feature"
   ],
   "window_display": false
  }
 },
 "nbformat": 4,
 "nbformat_minor": 4
}
